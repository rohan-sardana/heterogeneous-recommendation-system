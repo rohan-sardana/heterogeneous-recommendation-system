{
  "nbformat": 4,
  "nbformat_minor": 0,
  "metadata": {
    "colab": {
      "name": "heterogeneous_recommendation_system.ipynb",
      "provenance": [],
      "collapsed_sections": [
        "t9QZxslghaQw",
        "rAZTdTbn6yFI",
        "maePP0qnGZML",
        "PvKzQCZiGcxv",
        "7f2kdbqtGhTL",
        "V1n3LNfQGlB4",
        "eC7ZbggEOiTi",
        "dpILBQJYfkMX",
        "U5lVtFJypp6-",
        "OFLodyn8evwp",
        "UuNWQeL0IDb2",
        "xWjk4vvWmpN7",
        "bHSbjRIikR6Y",
        "fWZlgOU48S-U",
        "SnGyM8Dbk-n4",
        "PUIxzqHLAWcC",
        "Aiv4slGlqrdY",
        "AvEd7z2nkY6U",
        "dEzFBOB4mRxY",
        "M8ZD2TL8qw2V",
        "BXFhkGfYzIos"
      ],
      "authorship_tag": "ABX9TyNilE9O1gBHpwjmBu35C/Wc",
      "include_colab_link": true
    },
    "kernelspec": {
      "name": "python3",
      "display_name": "Python 3"
    },
    "language_info": {
      "name": "python"
    }
  },
  "cells": [
    {
      "cell_type": "markdown",
      "metadata": {
        "id": "view-in-github",
        "colab_type": "text"
      },
      "source": [
        "<a href=\"https://colab.research.google.com/github/rohan-sardana/heterogeneous-recommendation-system/blob/main/heterogeneous_recommendation_system.ipynb\" target=\"_parent\"><img src=\"https://colab.research.google.com/assets/colab-badge.svg\" alt=\"Open In Colab\"/></a>"
      ]
    },
    {
      "cell_type": "markdown",
      "source": [
        "# Group Members"
      ],
      "metadata": {
        "id": "t9QZxslghaQw"
      }
    },
    {
      "cell_type": "markdown",
      "source": [
        "**Name:** Gayathri Prerepa\n",
        "\n",
        "**Net ID:** gp2254\n",
        "\n",
        "\n",
        "**Name:** Rohan Sardana\n",
        "\n",
        "**Net ID:** rs7445"
      ],
      "metadata": {
        "id": "AQ-8WDJghhi0"
      }
    },
    {
      "cell_type": "markdown",
      "source": [
        "# Setting up the environment"
      ],
      "metadata": {
        "id": "rAZTdTbn6yFI"
      }
    },
    {
      "cell_type": "markdown",
      "source": [
        "## Installing required dependencies"
      ],
      "metadata": {
        "id": "maePP0qnGZML"
      }
    },
    {
      "cell_type": "code",
      "source": [
        "!pip install neattext\n",
        "!pip install pyspark\n",
        "!pip install progressbar2"
      ],
      "metadata": {
        "colab": {
          "base_uri": "https://localhost:8080/"
        },
        "id": "JkwJoDSELlqL",
        "outputId": "b4011f8a-ec57-4235-bcb5-638309f51cb6"
      },
      "execution_count": null,
      "outputs": [
        {
          "output_type": "stream",
          "name": "stdout",
          "text": [
            "Requirement already satisfied: neattext in /usr/local/lib/python3.7/dist-packages (0.1.3)\n",
            "Requirement already satisfied: pyspark in /usr/local/lib/python3.7/dist-packages (3.2.1)\n",
            "Requirement already satisfied: py4j==0.10.9.3 in /usr/local/lib/python3.7/dist-packages (from pyspark) (0.10.9.3)\n",
            "Requirement already satisfied: progressbar2 in /usr/local/lib/python3.7/dist-packages (3.38.0)\n",
            "Requirement already satisfied: six in /usr/local/lib/python3.7/dist-packages (from progressbar2) (1.15.0)\n",
            "Requirement already satisfied: python-utils>=2.3.0 in /usr/local/lib/python3.7/dist-packages (from progressbar2) (3.1.0)\n"
          ]
        }
      ]
    },
    {
      "cell_type": "markdown",
      "source": [
        "## Importing Libraries"
      ],
      "metadata": {
        "id": "PvKzQCZiGcxv"
      }
    },
    {
      "cell_type": "code",
      "execution_count": null,
      "metadata": {
        "id": "VAisPAID6qaF"
      },
      "outputs": [],
      "source": [
        "import pandas as pd\n",
        "import numpy as np\n",
        "import neattext.functions as nfx\n",
        "import os\n",
        "import glob\n",
        "import math\n",
        "import random\n",
        "from collections import Counter\n",
        "from multiprocessing import Pool\n",
        "import sys\n",
        "import time\n",
        "import pyspark\n",
        "from pyspark.sql import *\n",
        "from pyspark.sql.types import *\n",
        "from pyspark.sql.functions import *\n",
        "from pyspark import SparkContext, SparkConf\n",
        "from pyspark.ml.recommendation import ALS\n",
        "from sklearn.feature_extraction.text import CountVectorizer\n",
        "from sklearn.feature_extraction.text import TfidfVectorizer\n",
        "from sklearn.metrics.pairwise import cosine_similarity\n",
        "import warnings\n",
        "warnings.filterwarnings(\"ignore\")"
      ]
    },
    {
      "cell_type": "markdown",
      "source": [
        "## Mouting drive"
      ],
      "metadata": {
        "id": "7f2kdbqtGhTL"
      }
    },
    {
      "cell_type": "code",
      "source": [
        "from google.colab import drive\n",
        "drive.mount('/content/drive')"
      ],
      "metadata": {
        "colab": {
          "base_uri": "https://localhost:8080/"
        },
        "id": "TnwTRzWu6558",
        "outputId": "cefaa860-668c-4450-eaa3-c48281876ecc"
      },
      "execution_count": null,
      "outputs": [
        {
          "output_type": "stream",
          "name": "stdout",
          "text": [
            "Drive already mounted at /content/drive; to attempt to forcibly remount, call drive.mount(\"/content/drive\", force_remount=True).\n"
          ]
        }
      ]
    },
    {
      "cell_type": "markdown",
      "source": [
        "## Setting up Spark"
      ],
      "metadata": {
        "id": "V1n3LNfQGlB4"
      }
    },
    {
      "cell_type": "code",
      "source": [
        "conf = SparkConf().set(\"spark.ui.port\", \"4050\")\n",
        "sc = pyspark.SparkContext(conf=conf)\n",
        "spark = SparkSession.builder.getOrCreate()"
      ],
      "metadata": {
        "id": "G2Xb1_JEDp0N"
      },
      "execution_count": null,
      "outputs": []
    },
    {
      "cell_type": "markdown",
      "source": [
        "# Dataset Pre-Processing"
      ],
      "metadata": {
        "id": "afv8_hB97Ldl"
      }
    },
    {
      "cell_type": "markdown",
      "source": [
        "## Functions for Cleaning Datasets"
      ],
      "metadata": {
        "id": "eC7ZbggEOiTi"
      }
    },
    {
      "cell_type": "code",
      "source": [
        "#Function: To split String to List\n",
        "def convert_stol(lst):\n",
        "    return (lst.split())"
      ],
      "metadata": {
        "id": "PFDyyawDOmo1"
      },
      "execution_count": null,
      "outputs": []
    },
    {
      "cell_type": "code",
      "source": [
        "#Function: Lowercase List to String\n",
        "def lowcase_list_to_string(df, column_name):\n",
        "  df[column_name] = df[column_name].apply(lambda x : ' '.join(str(y) for y in x))\n",
        "  df[column_name] = df[column_name].str.lower()\n",
        "  return df"
      ],
      "metadata": {
        "id": "YpEgYApfQAJ5"
      },
      "execution_count": null,
      "outputs": []
    },
    {
      "cell_type": "code",
      "source": [
        "#Function: To convert String to List\n",
        "def string_to_list(df, column_name):\n",
        "  df[column_name] = df[column_name].apply(lambda x: ' '.join(sorted(set(x.split(' ')))))\n",
        "  df[column_name] = df[column_name].apply(lambda x: convert_stol(x))\n",
        "  return df"
      ],
      "metadata": {
        "id": "tPp588PaWmpj"
      },
      "execution_count": null,
      "outputs": []
    },
    {
      "cell_type": "code",
      "source": [
        "#Function: To remove stopwords and punctuations from String\n",
        "def clean_column(df, column_name):\n",
        "  df[column_name] = df[column_name].apply(nfx.remove_puncts)\n",
        "  df[column_name] = df[column_name].apply(nfx.remove_special_characters)\n",
        "  df[column_name] = df[column_name].apply(nfx.remove_numbers)\n",
        "  df[column_name] = df[column_name].apply(nfx.remove_stopwords)\n",
        "  return df"
      ],
      "metadata": {
        "id": "sFVgJ7VSOpc9"
      },
      "execution_count": null,
      "outputs": []
    },
    {
      "cell_type": "markdown",
      "source": [
        "## Datasets for Movies"
      ],
      "metadata": {
        "id": "xN2y5ze67vNq"
      }
    },
    {
      "cell_type": "markdown",
      "source": [
        "### Information Dataset"
      ],
      "metadata": {
        "id": "h78MmS0zfckg"
      }
    },
    {
      "cell_type": "code",
      "source": [
        "#Movie genre dataset\n",
        "movies = pd.read_csv('/content/drive/MyDrive/MMDS_Project/datasets/movielens/movies.csv')\n",
        "movies['genres'] = movies['genres'].apply(lambda x: x.split('|'))\n",
        "movies.head()"
      ],
      "metadata": {
        "colab": {
          "base_uri": "https://localhost:8080/",
          "height": 206
        },
        "id": "k7-BegYz7Dq6",
        "outputId": "d399ddcf-cd58-4734-b278-827350128751"
      },
      "execution_count": null,
      "outputs": [
        {
          "output_type": "execute_result",
          "data": {
            "text/plain": [
              "   movieId                               title  \\\n",
              "0        1                    Toy Story (1995)   \n",
              "1        2                      Jumanji (1995)   \n",
              "2        3             Grumpier Old Men (1995)   \n",
              "3        4            Waiting to Exhale (1995)   \n",
              "4        5  Father of the Bride Part II (1995)   \n",
              "\n",
              "                                              genres  \n",
              "0  [Adventure, Animation, Children, Comedy, Fantasy]  \n",
              "1                     [Adventure, Children, Fantasy]  \n",
              "2                                  [Comedy, Romance]  \n",
              "3                           [Comedy, Drama, Romance]  \n",
              "4                                           [Comedy]  "
            ],
            "text/html": [
              "\n",
              "  <div id=\"df-67506d63-8c96-4aa3-ae64-fe284fb968d2\">\n",
              "    <div class=\"colab-df-container\">\n",
              "      <div>\n",
              "<style scoped>\n",
              "    .dataframe tbody tr th:only-of-type {\n",
              "        vertical-align: middle;\n",
              "    }\n",
              "\n",
              "    .dataframe tbody tr th {\n",
              "        vertical-align: top;\n",
              "    }\n",
              "\n",
              "    .dataframe thead th {\n",
              "        text-align: right;\n",
              "    }\n",
              "</style>\n",
              "<table border=\"1\" class=\"dataframe\">\n",
              "  <thead>\n",
              "    <tr style=\"text-align: right;\">\n",
              "      <th></th>\n",
              "      <th>movieId</th>\n",
              "      <th>title</th>\n",
              "      <th>genres</th>\n",
              "    </tr>\n",
              "  </thead>\n",
              "  <tbody>\n",
              "    <tr>\n",
              "      <th>0</th>\n",
              "      <td>1</td>\n",
              "      <td>Toy Story (1995)</td>\n",
              "      <td>[Adventure, Animation, Children, Comedy, Fantasy]</td>\n",
              "    </tr>\n",
              "    <tr>\n",
              "      <th>1</th>\n",
              "      <td>2</td>\n",
              "      <td>Jumanji (1995)</td>\n",
              "      <td>[Adventure, Children, Fantasy]</td>\n",
              "    </tr>\n",
              "    <tr>\n",
              "      <th>2</th>\n",
              "      <td>3</td>\n",
              "      <td>Grumpier Old Men (1995)</td>\n",
              "      <td>[Comedy, Romance]</td>\n",
              "    </tr>\n",
              "    <tr>\n",
              "      <th>3</th>\n",
              "      <td>4</td>\n",
              "      <td>Waiting to Exhale (1995)</td>\n",
              "      <td>[Comedy, Drama, Romance]</td>\n",
              "    </tr>\n",
              "    <tr>\n",
              "      <th>4</th>\n",
              "      <td>5</td>\n",
              "      <td>Father of the Bride Part II (1995)</td>\n",
              "      <td>[Comedy]</td>\n",
              "    </tr>\n",
              "  </tbody>\n",
              "</table>\n",
              "</div>\n",
              "      <button class=\"colab-df-convert\" onclick=\"convertToInteractive('df-67506d63-8c96-4aa3-ae64-fe284fb968d2')\"\n",
              "              title=\"Convert this dataframe to an interactive table.\"\n",
              "              style=\"display:none;\">\n",
              "        \n",
              "  <svg xmlns=\"http://www.w3.org/2000/svg\" height=\"24px\"viewBox=\"0 0 24 24\"\n",
              "       width=\"24px\">\n",
              "    <path d=\"M0 0h24v24H0V0z\" fill=\"none\"/>\n",
              "    <path d=\"M18.56 5.44l.94 2.06.94-2.06 2.06-.94-2.06-.94-.94-2.06-.94 2.06-2.06.94zm-11 1L8.5 8.5l.94-2.06 2.06-.94-2.06-.94L8.5 2.5l-.94 2.06-2.06.94zm10 10l.94 2.06.94-2.06 2.06-.94-2.06-.94-.94-2.06-.94 2.06-2.06.94z\"/><path d=\"M17.41 7.96l-1.37-1.37c-.4-.4-.92-.59-1.43-.59-.52 0-1.04.2-1.43.59L10.3 9.45l-7.72 7.72c-.78.78-.78 2.05 0 2.83L4 21.41c.39.39.9.59 1.41.59.51 0 1.02-.2 1.41-.59l7.78-7.78 2.81-2.81c.8-.78.8-2.07 0-2.86zM5.41 20L4 18.59l7.72-7.72 1.47 1.35L5.41 20z\"/>\n",
              "  </svg>\n",
              "      </button>\n",
              "      \n",
              "  <style>\n",
              "    .colab-df-container {\n",
              "      display:flex;\n",
              "      flex-wrap:wrap;\n",
              "      gap: 12px;\n",
              "    }\n",
              "\n",
              "    .colab-df-convert {\n",
              "      background-color: #E8F0FE;\n",
              "      border: none;\n",
              "      border-radius: 50%;\n",
              "      cursor: pointer;\n",
              "      display: none;\n",
              "      fill: #1967D2;\n",
              "      height: 32px;\n",
              "      padding: 0 0 0 0;\n",
              "      width: 32px;\n",
              "    }\n",
              "\n",
              "    .colab-df-convert:hover {\n",
              "      background-color: #E2EBFA;\n",
              "      box-shadow: 0px 1px 2px rgba(60, 64, 67, 0.3), 0px 1px 3px 1px rgba(60, 64, 67, 0.15);\n",
              "      fill: #174EA6;\n",
              "    }\n",
              "\n",
              "    [theme=dark] .colab-df-convert {\n",
              "      background-color: #3B4455;\n",
              "      fill: #D2E3FC;\n",
              "    }\n",
              "\n",
              "    [theme=dark] .colab-df-convert:hover {\n",
              "      background-color: #434B5C;\n",
              "      box-shadow: 0px 1px 3px 1px rgba(0, 0, 0, 0.15);\n",
              "      filter: drop-shadow(0px 1px 2px rgba(0, 0, 0, 0.3));\n",
              "      fill: #FFFFFF;\n",
              "    }\n",
              "  </style>\n",
              "\n",
              "      <script>\n",
              "        const buttonEl =\n",
              "          document.querySelector('#df-67506d63-8c96-4aa3-ae64-fe284fb968d2 button.colab-df-convert');\n",
              "        buttonEl.style.display =\n",
              "          google.colab.kernel.accessAllowed ? 'block' : 'none';\n",
              "\n",
              "        async function convertToInteractive(key) {\n",
              "          const element = document.querySelector('#df-67506d63-8c96-4aa3-ae64-fe284fb968d2');\n",
              "          const dataTable =\n",
              "            await google.colab.kernel.invokeFunction('convertToInteractive',\n",
              "                                                     [key], {});\n",
              "          if (!dataTable) return;\n",
              "\n",
              "          const docLinkHtml = 'Like what you see? Visit the ' +\n",
              "            '<a target=\"_blank\" href=https://colab.research.google.com/notebooks/data_table.ipynb>data table notebook</a>'\n",
              "            + ' to learn more about interactive tables.';\n",
              "          element.innerHTML = '';\n",
              "          dataTable['output_type'] = 'display_data';\n",
              "          await google.colab.output.renderOutput(dataTable, element);\n",
              "          const docLink = document.createElement('div');\n",
              "          docLink.innerHTML = docLinkHtml;\n",
              "          element.appendChild(docLink);\n",
              "        }\n",
              "      </script>\n",
              "    </div>\n",
              "  </div>\n",
              "  "
            ]
          },
          "metadata": {},
          "execution_count": 67
        }
      ]
    },
    {
      "cell_type": "code",
      "source": [
        "#Movie tags dataset\n",
        "tags = pd.read_csv('/content/drive/MyDrive/MMDS_Project/datasets/movielens/tags.csv')\n",
        "tags = tags.drop(['timestamp'], axis = 1)\n",
        "tags.head()"
      ],
      "metadata": {
        "colab": {
          "base_uri": "https://localhost:8080/",
          "height": 206
        },
        "id": "qEnCgYTu7eG9",
        "outputId": "499ab724-032d-4ec1-aff7-d365e78b7dd2"
      },
      "execution_count": null,
      "outputs": [
        {
          "output_type": "execute_result",
          "data": {
            "text/plain": [
              "   userId  movieId            tag\n",
              "0      18     4141    Mark Waters\n",
              "1      65      208      dark hero\n",
              "2      65      353      dark hero\n",
              "3      65      521  noir thriller\n",
              "4      65      592      dark hero"
            ],
            "text/html": [
              "\n",
              "  <div id=\"df-60efdb41-3e5c-4cab-b4c2-18d0af7d2475\">\n",
              "    <div class=\"colab-df-container\">\n",
              "      <div>\n",
              "<style scoped>\n",
              "    .dataframe tbody tr th:only-of-type {\n",
              "        vertical-align: middle;\n",
              "    }\n",
              "\n",
              "    .dataframe tbody tr th {\n",
              "        vertical-align: top;\n",
              "    }\n",
              "\n",
              "    .dataframe thead th {\n",
              "        text-align: right;\n",
              "    }\n",
              "</style>\n",
              "<table border=\"1\" class=\"dataframe\">\n",
              "  <thead>\n",
              "    <tr style=\"text-align: right;\">\n",
              "      <th></th>\n",
              "      <th>userId</th>\n",
              "      <th>movieId</th>\n",
              "      <th>tag</th>\n",
              "    </tr>\n",
              "  </thead>\n",
              "  <tbody>\n",
              "    <tr>\n",
              "      <th>0</th>\n",
              "      <td>18</td>\n",
              "      <td>4141</td>\n",
              "      <td>Mark Waters</td>\n",
              "    </tr>\n",
              "    <tr>\n",
              "      <th>1</th>\n",
              "      <td>65</td>\n",
              "      <td>208</td>\n",
              "      <td>dark hero</td>\n",
              "    </tr>\n",
              "    <tr>\n",
              "      <th>2</th>\n",
              "      <td>65</td>\n",
              "      <td>353</td>\n",
              "      <td>dark hero</td>\n",
              "    </tr>\n",
              "    <tr>\n",
              "      <th>3</th>\n",
              "      <td>65</td>\n",
              "      <td>521</td>\n",
              "      <td>noir thriller</td>\n",
              "    </tr>\n",
              "    <tr>\n",
              "      <th>4</th>\n",
              "      <td>65</td>\n",
              "      <td>592</td>\n",
              "      <td>dark hero</td>\n",
              "    </tr>\n",
              "  </tbody>\n",
              "</table>\n",
              "</div>\n",
              "      <button class=\"colab-df-convert\" onclick=\"convertToInteractive('df-60efdb41-3e5c-4cab-b4c2-18d0af7d2475')\"\n",
              "              title=\"Convert this dataframe to an interactive table.\"\n",
              "              style=\"display:none;\">\n",
              "        \n",
              "  <svg xmlns=\"http://www.w3.org/2000/svg\" height=\"24px\"viewBox=\"0 0 24 24\"\n",
              "       width=\"24px\">\n",
              "    <path d=\"M0 0h24v24H0V0z\" fill=\"none\"/>\n",
              "    <path d=\"M18.56 5.44l.94 2.06.94-2.06 2.06-.94-2.06-.94-.94-2.06-.94 2.06-2.06.94zm-11 1L8.5 8.5l.94-2.06 2.06-.94-2.06-.94L8.5 2.5l-.94 2.06-2.06.94zm10 10l.94 2.06.94-2.06 2.06-.94-2.06-.94-.94-2.06-.94 2.06-2.06.94z\"/><path d=\"M17.41 7.96l-1.37-1.37c-.4-.4-.92-.59-1.43-.59-.52 0-1.04.2-1.43.59L10.3 9.45l-7.72 7.72c-.78.78-.78 2.05 0 2.83L4 21.41c.39.39.9.59 1.41.59.51 0 1.02-.2 1.41-.59l7.78-7.78 2.81-2.81c.8-.78.8-2.07 0-2.86zM5.41 20L4 18.59l7.72-7.72 1.47 1.35L5.41 20z\"/>\n",
              "  </svg>\n",
              "      </button>\n",
              "      \n",
              "  <style>\n",
              "    .colab-df-container {\n",
              "      display:flex;\n",
              "      flex-wrap:wrap;\n",
              "      gap: 12px;\n",
              "    }\n",
              "\n",
              "    .colab-df-convert {\n",
              "      background-color: #E8F0FE;\n",
              "      border: none;\n",
              "      border-radius: 50%;\n",
              "      cursor: pointer;\n",
              "      display: none;\n",
              "      fill: #1967D2;\n",
              "      height: 32px;\n",
              "      padding: 0 0 0 0;\n",
              "      width: 32px;\n",
              "    }\n",
              "\n",
              "    .colab-df-convert:hover {\n",
              "      background-color: #E2EBFA;\n",
              "      box-shadow: 0px 1px 2px rgba(60, 64, 67, 0.3), 0px 1px 3px 1px rgba(60, 64, 67, 0.15);\n",
              "      fill: #174EA6;\n",
              "    }\n",
              "\n",
              "    [theme=dark] .colab-df-convert {\n",
              "      background-color: #3B4455;\n",
              "      fill: #D2E3FC;\n",
              "    }\n",
              "\n",
              "    [theme=dark] .colab-df-convert:hover {\n",
              "      background-color: #434B5C;\n",
              "      box-shadow: 0px 1px 3px 1px rgba(0, 0, 0, 0.15);\n",
              "      filter: drop-shadow(0px 1px 2px rgba(0, 0, 0, 0.3));\n",
              "      fill: #FFFFFF;\n",
              "    }\n",
              "  </style>\n",
              "\n",
              "      <script>\n",
              "        const buttonEl =\n",
              "          document.querySelector('#df-60efdb41-3e5c-4cab-b4c2-18d0af7d2475 button.colab-df-convert');\n",
              "        buttonEl.style.display =\n",
              "          google.colab.kernel.accessAllowed ? 'block' : 'none';\n",
              "\n",
              "        async function convertToInteractive(key) {\n",
              "          const element = document.querySelector('#df-60efdb41-3e5c-4cab-b4c2-18d0af7d2475');\n",
              "          const dataTable =\n",
              "            await google.colab.kernel.invokeFunction('convertToInteractive',\n",
              "                                                     [key], {});\n",
              "          if (!dataTable) return;\n",
              "\n",
              "          const docLinkHtml = 'Like what you see? Visit the ' +\n",
              "            '<a target=\"_blank\" href=https://colab.research.google.com/notebooks/data_table.ipynb>data table notebook</a>'\n",
              "            + ' to learn more about interactive tables.';\n",
              "          element.innerHTML = '';\n",
              "          dataTable['output_type'] = 'display_data';\n",
              "          await google.colab.output.renderOutput(dataTable, element);\n",
              "          const docLink = document.createElement('div');\n",
              "          docLink.innerHTML = docLinkHtml;\n",
              "          element.appendChild(docLink);\n",
              "        }\n",
              "      </script>\n",
              "    </div>\n",
              "  </div>\n",
              "  "
            ]
          },
          "metadata": {},
          "execution_count": 68
        }
      ]
    },
    {
      "cell_type": "code",
      "source": [
        "#Combining Movie datasets\n",
        "movies_df = pd.merge(movies, tags, on=\"movieId\")\n",
        "aggregation_functions = { 'tag': [lambda x: x.drop_duplicates().tolist()]}\n",
        "movies_df = movies_df.groupby('movieId').agg(aggregation_functions).reset_index()\n",
        "movies_df = pd.merge(movies_df, movies, on=\"movieId\")\n",
        "movies_df = movies_df.drop([\"movieId\"], axis = 1)\n",
        "movies_df.columns = ['movieId','tags', 'title', 'genres']\n",
        "movies_df.head()"
      ],
      "metadata": {
        "colab": {
          "base_uri": "https://localhost:8080/",
          "height": 206
        },
        "id": "03Dme4m271yA",
        "outputId": "41ea116b-6634-4030-f532-50be2220d7e0"
      },
      "execution_count": null,
      "outputs": [
        {
          "output_type": "execute_result",
          "data": {
            "text/plain": [
              "   movieId                                               tags  \\\n",
              "0        1  [Watched, computer animation, Disney animated ...   \n",
              "1        2  [time travel, adapted from:book, board game, c...   \n",
              "2        3  [old people that is actually funny, sequel fev...   \n",
              "3        4            [chick flick, revenge, characters, CLV]   \n",
              "4        5  [Diane Keaton, family, sequel, Steve Martin, w...   \n",
              "\n",
              "                                title  \\\n",
              "0                    Toy Story (1995)   \n",
              "1                      Jumanji (1995)   \n",
              "2             Grumpier Old Men (1995)   \n",
              "3            Waiting to Exhale (1995)   \n",
              "4  Father of the Bride Part II (1995)   \n",
              "\n",
              "                                              genres  \n",
              "0  [Adventure, Animation, Children, Comedy, Fantasy]  \n",
              "1                     [Adventure, Children, Fantasy]  \n",
              "2                                  [Comedy, Romance]  \n",
              "3                           [Comedy, Drama, Romance]  \n",
              "4                                           [Comedy]  "
            ],
            "text/html": [
              "\n",
              "  <div id=\"df-c70a353d-4f2c-439e-a9bc-e98a83a90cec\">\n",
              "    <div class=\"colab-df-container\">\n",
              "      <div>\n",
              "<style scoped>\n",
              "    .dataframe tbody tr th:only-of-type {\n",
              "        vertical-align: middle;\n",
              "    }\n",
              "\n",
              "    .dataframe tbody tr th {\n",
              "        vertical-align: top;\n",
              "    }\n",
              "\n",
              "    .dataframe thead th {\n",
              "        text-align: right;\n",
              "    }\n",
              "</style>\n",
              "<table border=\"1\" class=\"dataframe\">\n",
              "  <thead>\n",
              "    <tr style=\"text-align: right;\">\n",
              "      <th></th>\n",
              "      <th>movieId</th>\n",
              "      <th>tags</th>\n",
              "      <th>title</th>\n",
              "      <th>genres</th>\n",
              "    </tr>\n",
              "  </thead>\n",
              "  <tbody>\n",
              "    <tr>\n",
              "      <th>0</th>\n",
              "      <td>1</td>\n",
              "      <td>[Watched, computer animation, Disney animated ...</td>\n",
              "      <td>Toy Story (1995)</td>\n",
              "      <td>[Adventure, Animation, Children, Comedy, Fantasy]</td>\n",
              "    </tr>\n",
              "    <tr>\n",
              "      <th>1</th>\n",
              "      <td>2</td>\n",
              "      <td>[time travel, adapted from:book, board game, c...</td>\n",
              "      <td>Jumanji (1995)</td>\n",
              "      <td>[Adventure, Children, Fantasy]</td>\n",
              "    </tr>\n",
              "    <tr>\n",
              "      <th>2</th>\n",
              "      <td>3</td>\n",
              "      <td>[old people that is actually funny, sequel fev...</td>\n",
              "      <td>Grumpier Old Men (1995)</td>\n",
              "      <td>[Comedy, Romance]</td>\n",
              "    </tr>\n",
              "    <tr>\n",
              "      <th>3</th>\n",
              "      <td>4</td>\n",
              "      <td>[chick flick, revenge, characters, CLV]</td>\n",
              "      <td>Waiting to Exhale (1995)</td>\n",
              "      <td>[Comedy, Drama, Romance]</td>\n",
              "    </tr>\n",
              "    <tr>\n",
              "      <th>4</th>\n",
              "      <td>5</td>\n",
              "      <td>[Diane Keaton, family, sequel, Steve Martin, w...</td>\n",
              "      <td>Father of the Bride Part II (1995)</td>\n",
              "      <td>[Comedy]</td>\n",
              "    </tr>\n",
              "  </tbody>\n",
              "</table>\n",
              "</div>\n",
              "      <button class=\"colab-df-convert\" onclick=\"convertToInteractive('df-c70a353d-4f2c-439e-a9bc-e98a83a90cec')\"\n",
              "              title=\"Convert this dataframe to an interactive table.\"\n",
              "              style=\"display:none;\">\n",
              "        \n",
              "  <svg xmlns=\"http://www.w3.org/2000/svg\" height=\"24px\"viewBox=\"0 0 24 24\"\n",
              "       width=\"24px\">\n",
              "    <path d=\"M0 0h24v24H0V0z\" fill=\"none\"/>\n",
              "    <path d=\"M18.56 5.44l.94 2.06.94-2.06 2.06-.94-2.06-.94-.94-2.06-.94 2.06-2.06.94zm-11 1L8.5 8.5l.94-2.06 2.06-.94-2.06-.94L8.5 2.5l-.94 2.06-2.06.94zm10 10l.94 2.06.94-2.06 2.06-.94-2.06-.94-.94-2.06-.94 2.06-2.06.94z\"/><path d=\"M17.41 7.96l-1.37-1.37c-.4-.4-.92-.59-1.43-.59-.52 0-1.04.2-1.43.59L10.3 9.45l-7.72 7.72c-.78.78-.78 2.05 0 2.83L4 21.41c.39.39.9.59 1.41.59.51 0 1.02-.2 1.41-.59l7.78-7.78 2.81-2.81c.8-.78.8-2.07 0-2.86zM5.41 20L4 18.59l7.72-7.72 1.47 1.35L5.41 20z\"/>\n",
              "  </svg>\n",
              "      </button>\n",
              "      \n",
              "  <style>\n",
              "    .colab-df-container {\n",
              "      display:flex;\n",
              "      flex-wrap:wrap;\n",
              "      gap: 12px;\n",
              "    }\n",
              "\n",
              "    .colab-df-convert {\n",
              "      background-color: #E8F0FE;\n",
              "      border: none;\n",
              "      border-radius: 50%;\n",
              "      cursor: pointer;\n",
              "      display: none;\n",
              "      fill: #1967D2;\n",
              "      height: 32px;\n",
              "      padding: 0 0 0 0;\n",
              "      width: 32px;\n",
              "    }\n",
              "\n",
              "    .colab-df-convert:hover {\n",
              "      background-color: #E2EBFA;\n",
              "      box-shadow: 0px 1px 2px rgba(60, 64, 67, 0.3), 0px 1px 3px 1px rgba(60, 64, 67, 0.15);\n",
              "      fill: #174EA6;\n",
              "    }\n",
              "\n",
              "    [theme=dark] .colab-df-convert {\n",
              "      background-color: #3B4455;\n",
              "      fill: #D2E3FC;\n",
              "    }\n",
              "\n",
              "    [theme=dark] .colab-df-convert:hover {\n",
              "      background-color: #434B5C;\n",
              "      box-shadow: 0px 1px 3px 1px rgba(0, 0, 0, 0.15);\n",
              "      filter: drop-shadow(0px 1px 2px rgba(0, 0, 0, 0.3));\n",
              "      fill: #FFFFFF;\n",
              "    }\n",
              "  </style>\n",
              "\n",
              "      <script>\n",
              "        const buttonEl =\n",
              "          document.querySelector('#df-c70a353d-4f2c-439e-a9bc-e98a83a90cec button.colab-df-convert');\n",
              "        buttonEl.style.display =\n",
              "          google.colab.kernel.accessAllowed ? 'block' : 'none';\n",
              "\n",
              "        async function convertToInteractive(key) {\n",
              "          const element = document.querySelector('#df-c70a353d-4f2c-439e-a9bc-e98a83a90cec');\n",
              "          const dataTable =\n",
              "            await google.colab.kernel.invokeFunction('convertToInteractive',\n",
              "                                                     [key], {});\n",
              "          if (!dataTable) return;\n",
              "\n",
              "          const docLinkHtml = 'Like what you see? Visit the ' +\n",
              "            '<a target=\"_blank\" href=https://colab.research.google.com/notebooks/data_table.ipynb>data table notebook</a>'\n",
              "            + ' to learn more about interactive tables.';\n",
              "          element.innerHTML = '';\n",
              "          dataTable['output_type'] = 'display_data';\n",
              "          await google.colab.output.renderOutput(dataTable, element);\n",
              "          const docLink = document.createElement('div');\n",
              "          docLink.innerHTML = docLinkHtml;\n",
              "          element.appendChild(docLink);\n",
              "        }\n",
              "      </script>\n",
              "    </div>\n",
              "  </div>\n",
              "  "
            ]
          },
          "metadata": {},
          "execution_count": 69
        }
      ]
    },
    {
      "cell_type": "code",
      "source": [
        "#Preprocessing, Normalizing and Saving\n",
        "\n",
        "#Lowercasing genres\n",
        "movies_df = lowcase_list_to_string(movies_df, 'genres')\n",
        "movies_df = string_to_list(movies_df,'genres')\n",
        "\n",
        "#Lowercasing tags and removing filler words\n",
        "movies_df = lowcase_list_to_string(movies_df, 'tags')\n",
        "movies_df = clean_column(movies_df,'tags')\n",
        "movies_df = string_to_list(movies_df, 'tags')\n",
        "movies_data = movies_df\n",
        "\n",
        "#Saving final movies dataframe to file\n",
        "list_of_movies = movies_data['title'].tolist()\n",
        "movies_data.to_csv('/content/drive/MyDrive/MMDS_Project/datasets/final_data/movies_data.csv',index = False)\n",
        "movies_data.head()"
      ],
      "metadata": {
        "colab": {
          "base_uri": "https://localhost:8080/",
          "height": 206
        },
        "id": "MH1nXFG3W31P",
        "outputId": "647fbed1-73a2-42b3-dbc2-6b790a7a954f"
      },
      "execution_count": null,
      "outputs": [
        {
          "output_type": "execute_result",
          "data": {
            "text/plain": [
              "   movieId                                               tags  \\\n",
              "0        1  [acting, action, adventure, allen, animated, a...   \n",
              "1        2  [action, actress, adapted, adventure, allsburg...   \n",
              "2        3  [actually, clv, comedinha, comedy, de, deutch,...   \n",
              "3        4           [characters, chick, clv, flick, revenge]   \n",
              "4        5  [childhood, classics, clv, comedy, diane, dure...   \n",
              "\n",
              "                                title  \\\n",
              "0                    Toy Story (1995)   \n",
              "1                      Jumanji (1995)   \n",
              "2             Grumpier Old Men (1995)   \n",
              "3            Waiting to Exhale (1995)   \n",
              "4  Father of the Bride Part II (1995)   \n",
              "\n",
              "                                              genres  \n",
              "0  [adventure, animation, children, comedy, fantasy]  \n",
              "1                     [adventure, children, fantasy]  \n",
              "2                                  [comedy, romance]  \n",
              "3                           [comedy, drama, romance]  \n",
              "4                                           [comedy]  "
            ],
            "text/html": [
              "\n",
              "  <div id=\"df-3c67b242-80db-4610-873e-6ebcf5cdb7a9\">\n",
              "    <div class=\"colab-df-container\">\n",
              "      <div>\n",
              "<style scoped>\n",
              "    .dataframe tbody tr th:only-of-type {\n",
              "        vertical-align: middle;\n",
              "    }\n",
              "\n",
              "    .dataframe tbody tr th {\n",
              "        vertical-align: top;\n",
              "    }\n",
              "\n",
              "    .dataframe thead th {\n",
              "        text-align: right;\n",
              "    }\n",
              "</style>\n",
              "<table border=\"1\" class=\"dataframe\">\n",
              "  <thead>\n",
              "    <tr style=\"text-align: right;\">\n",
              "      <th></th>\n",
              "      <th>movieId</th>\n",
              "      <th>tags</th>\n",
              "      <th>title</th>\n",
              "      <th>genres</th>\n",
              "    </tr>\n",
              "  </thead>\n",
              "  <tbody>\n",
              "    <tr>\n",
              "      <th>0</th>\n",
              "      <td>1</td>\n",
              "      <td>[acting, action, adventure, allen, animated, a...</td>\n",
              "      <td>Toy Story (1995)</td>\n",
              "      <td>[adventure, animation, children, comedy, fantasy]</td>\n",
              "    </tr>\n",
              "    <tr>\n",
              "      <th>1</th>\n",
              "      <td>2</td>\n",
              "      <td>[action, actress, adapted, adventure, allsburg...</td>\n",
              "      <td>Jumanji (1995)</td>\n",
              "      <td>[adventure, children, fantasy]</td>\n",
              "    </tr>\n",
              "    <tr>\n",
              "      <th>2</th>\n",
              "      <td>3</td>\n",
              "      <td>[actually, clv, comedinha, comedy, de, deutch,...</td>\n",
              "      <td>Grumpier Old Men (1995)</td>\n",
              "      <td>[comedy, romance]</td>\n",
              "    </tr>\n",
              "    <tr>\n",
              "      <th>3</th>\n",
              "      <td>4</td>\n",
              "      <td>[characters, chick, clv, flick, revenge]</td>\n",
              "      <td>Waiting to Exhale (1995)</td>\n",
              "      <td>[comedy, drama, romance]</td>\n",
              "    </tr>\n",
              "    <tr>\n",
              "      <th>4</th>\n",
              "      <td>5</td>\n",
              "      <td>[childhood, classics, clv, comedy, diane, dure...</td>\n",
              "      <td>Father of the Bride Part II (1995)</td>\n",
              "      <td>[comedy]</td>\n",
              "    </tr>\n",
              "  </tbody>\n",
              "</table>\n",
              "</div>\n",
              "      <button class=\"colab-df-convert\" onclick=\"convertToInteractive('df-3c67b242-80db-4610-873e-6ebcf5cdb7a9')\"\n",
              "              title=\"Convert this dataframe to an interactive table.\"\n",
              "              style=\"display:none;\">\n",
              "        \n",
              "  <svg xmlns=\"http://www.w3.org/2000/svg\" height=\"24px\"viewBox=\"0 0 24 24\"\n",
              "       width=\"24px\">\n",
              "    <path d=\"M0 0h24v24H0V0z\" fill=\"none\"/>\n",
              "    <path d=\"M18.56 5.44l.94 2.06.94-2.06 2.06-.94-2.06-.94-.94-2.06-.94 2.06-2.06.94zm-11 1L8.5 8.5l.94-2.06 2.06-.94-2.06-.94L8.5 2.5l-.94 2.06-2.06.94zm10 10l.94 2.06.94-2.06 2.06-.94-2.06-.94-.94-2.06-.94 2.06-2.06.94z\"/><path d=\"M17.41 7.96l-1.37-1.37c-.4-.4-.92-.59-1.43-.59-.52 0-1.04.2-1.43.59L10.3 9.45l-7.72 7.72c-.78.78-.78 2.05 0 2.83L4 21.41c.39.39.9.59 1.41.59.51 0 1.02-.2 1.41-.59l7.78-7.78 2.81-2.81c.8-.78.8-2.07 0-2.86zM5.41 20L4 18.59l7.72-7.72 1.47 1.35L5.41 20z\"/>\n",
              "  </svg>\n",
              "      </button>\n",
              "      \n",
              "  <style>\n",
              "    .colab-df-container {\n",
              "      display:flex;\n",
              "      flex-wrap:wrap;\n",
              "      gap: 12px;\n",
              "    }\n",
              "\n",
              "    .colab-df-convert {\n",
              "      background-color: #E8F0FE;\n",
              "      border: none;\n",
              "      border-radius: 50%;\n",
              "      cursor: pointer;\n",
              "      display: none;\n",
              "      fill: #1967D2;\n",
              "      height: 32px;\n",
              "      padding: 0 0 0 0;\n",
              "      width: 32px;\n",
              "    }\n",
              "\n",
              "    .colab-df-convert:hover {\n",
              "      background-color: #E2EBFA;\n",
              "      box-shadow: 0px 1px 2px rgba(60, 64, 67, 0.3), 0px 1px 3px 1px rgba(60, 64, 67, 0.15);\n",
              "      fill: #174EA6;\n",
              "    }\n",
              "\n",
              "    [theme=dark] .colab-df-convert {\n",
              "      background-color: #3B4455;\n",
              "      fill: #D2E3FC;\n",
              "    }\n",
              "\n",
              "    [theme=dark] .colab-df-convert:hover {\n",
              "      background-color: #434B5C;\n",
              "      box-shadow: 0px 1px 3px 1px rgba(0, 0, 0, 0.15);\n",
              "      filter: drop-shadow(0px 1px 2px rgba(0, 0, 0, 0.3));\n",
              "      fill: #FFFFFF;\n",
              "    }\n",
              "  </style>\n",
              "\n",
              "      <script>\n",
              "        const buttonEl =\n",
              "          document.querySelector('#df-3c67b242-80db-4610-873e-6ebcf5cdb7a9 button.colab-df-convert');\n",
              "        buttonEl.style.display =\n",
              "          google.colab.kernel.accessAllowed ? 'block' : 'none';\n",
              "\n",
              "        async function convertToInteractive(key) {\n",
              "          const element = document.querySelector('#df-3c67b242-80db-4610-873e-6ebcf5cdb7a9');\n",
              "          const dataTable =\n",
              "            await google.colab.kernel.invokeFunction('convertToInteractive',\n",
              "                                                     [key], {});\n",
              "          if (!dataTable) return;\n",
              "\n",
              "          const docLinkHtml = 'Like what you see? Visit the ' +\n",
              "            '<a target=\"_blank\" href=https://colab.research.google.com/notebooks/data_table.ipynb>data table notebook</a>'\n",
              "            + ' to learn more about interactive tables.';\n",
              "          element.innerHTML = '';\n",
              "          dataTable['output_type'] = 'display_data';\n",
              "          await google.colab.output.renderOutput(dataTable, element);\n",
              "          const docLink = document.createElement('div');\n",
              "          docLink.innerHTML = docLinkHtml;\n",
              "          element.appendChild(docLink);\n",
              "        }\n",
              "      </script>\n",
              "    </div>\n",
              "  </div>\n",
              "  "
            ]
          },
          "metadata": {},
          "execution_count": 70
        }
      ]
    },
    {
      "cell_type": "markdown",
      "source": [
        "### Ratings Dataset"
      ],
      "metadata": {
        "id": "dpILBQJYfkMX"
      }
    },
    {
      "cell_type": "code",
      "source": [
        "#Movie ratings dataset\n",
        "ratings = pd.read_csv('/content/drive/MyDrive/MMDS_Project/datasets/movielens/ratings.csv')\n",
        "movies_ratings = ratings.drop(['timestamp'], axis = 1)\n",
        "movies_ratings.to_csv('/content/drive/MyDrive/MMDS_Project/datasets/final_data/movies_ratings.csv',index = False)\n",
        "movies_ratings.head()"
      ],
      "metadata": {
        "colab": {
          "base_uri": "https://localhost:8080/",
          "height": 206
        },
        "id": "rNHbCqg-7p1L",
        "outputId": "059566f0-bc4d-44d8-910a-8a5d5d0170fd"
      },
      "execution_count": null,
      "outputs": [
        {
          "output_type": "execute_result",
          "data": {
            "text/plain": [
              "   userId  movieId  rating\n",
              "0       1        2     3.5\n",
              "1       1       29     3.5\n",
              "2       1       32     3.5\n",
              "3       1       47     3.5\n",
              "4       1       50     3.5"
            ],
            "text/html": [
              "\n",
              "  <div id=\"df-58416ed6-dd97-4c30-9ced-7c4213951aaa\">\n",
              "    <div class=\"colab-df-container\">\n",
              "      <div>\n",
              "<style scoped>\n",
              "    .dataframe tbody tr th:only-of-type {\n",
              "        vertical-align: middle;\n",
              "    }\n",
              "\n",
              "    .dataframe tbody tr th {\n",
              "        vertical-align: top;\n",
              "    }\n",
              "\n",
              "    .dataframe thead th {\n",
              "        text-align: right;\n",
              "    }\n",
              "</style>\n",
              "<table border=\"1\" class=\"dataframe\">\n",
              "  <thead>\n",
              "    <tr style=\"text-align: right;\">\n",
              "      <th></th>\n",
              "      <th>userId</th>\n",
              "      <th>movieId</th>\n",
              "      <th>rating</th>\n",
              "    </tr>\n",
              "  </thead>\n",
              "  <tbody>\n",
              "    <tr>\n",
              "      <th>0</th>\n",
              "      <td>1</td>\n",
              "      <td>2</td>\n",
              "      <td>3.5</td>\n",
              "    </tr>\n",
              "    <tr>\n",
              "      <th>1</th>\n",
              "      <td>1</td>\n",
              "      <td>29</td>\n",
              "      <td>3.5</td>\n",
              "    </tr>\n",
              "    <tr>\n",
              "      <th>2</th>\n",
              "      <td>1</td>\n",
              "      <td>32</td>\n",
              "      <td>3.5</td>\n",
              "    </tr>\n",
              "    <tr>\n",
              "      <th>3</th>\n",
              "      <td>1</td>\n",
              "      <td>47</td>\n",
              "      <td>3.5</td>\n",
              "    </tr>\n",
              "    <tr>\n",
              "      <th>4</th>\n",
              "      <td>1</td>\n",
              "      <td>50</td>\n",
              "      <td>3.5</td>\n",
              "    </tr>\n",
              "  </tbody>\n",
              "</table>\n",
              "</div>\n",
              "      <button class=\"colab-df-convert\" onclick=\"convertToInteractive('df-58416ed6-dd97-4c30-9ced-7c4213951aaa')\"\n",
              "              title=\"Convert this dataframe to an interactive table.\"\n",
              "              style=\"display:none;\">\n",
              "        \n",
              "  <svg xmlns=\"http://www.w3.org/2000/svg\" height=\"24px\"viewBox=\"0 0 24 24\"\n",
              "       width=\"24px\">\n",
              "    <path d=\"M0 0h24v24H0V0z\" fill=\"none\"/>\n",
              "    <path d=\"M18.56 5.44l.94 2.06.94-2.06 2.06-.94-2.06-.94-.94-2.06-.94 2.06-2.06.94zm-11 1L8.5 8.5l.94-2.06 2.06-.94-2.06-.94L8.5 2.5l-.94 2.06-2.06.94zm10 10l.94 2.06.94-2.06 2.06-.94-2.06-.94-.94-2.06-.94 2.06-2.06.94z\"/><path d=\"M17.41 7.96l-1.37-1.37c-.4-.4-.92-.59-1.43-.59-.52 0-1.04.2-1.43.59L10.3 9.45l-7.72 7.72c-.78.78-.78 2.05 0 2.83L4 21.41c.39.39.9.59 1.41.59.51 0 1.02-.2 1.41-.59l7.78-7.78 2.81-2.81c.8-.78.8-2.07 0-2.86zM5.41 20L4 18.59l7.72-7.72 1.47 1.35L5.41 20z\"/>\n",
              "  </svg>\n",
              "      </button>\n",
              "      \n",
              "  <style>\n",
              "    .colab-df-container {\n",
              "      display:flex;\n",
              "      flex-wrap:wrap;\n",
              "      gap: 12px;\n",
              "    }\n",
              "\n",
              "    .colab-df-convert {\n",
              "      background-color: #E8F0FE;\n",
              "      border: none;\n",
              "      border-radius: 50%;\n",
              "      cursor: pointer;\n",
              "      display: none;\n",
              "      fill: #1967D2;\n",
              "      height: 32px;\n",
              "      padding: 0 0 0 0;\n",
              "      width: 32px;\n",
              "    }\n",
              "\n",
              "    .colab-df-convert:hover {\n",
              "      background-color: #E2EBFA;\n",
              "      box-shadow: 0px 1px 2px rgba(60, 64, 67, 0.3), 0px 1px 3px 1px rgba(60, 64, 67, 0.15);\n",
              "      fill: #174EA6;\n",
              "    }\n",
              "\n",
              "    [theme=dark] .colab-df-convert {\n",
              "      background-color: #3B4455;\n",
              "      fill: #D2E3FC;\n",
              "    }\n",
              "\n",
              "    [theme=dark] .colab-df-convert:hover {\n",
              "      background-color: #434B5C;\n",
              "      box-shadow: 0px 1px 3px 1px rgba(0, 0, 0, 0.15);\n",
              "      filter: drop-shadow(0px 1px 2px rgba(0, 0, 0, 0.3));\n",
              "      fill: #FFFFFF;\n",
              "    }\n",
              "  </style>\n",
              "\n",
              "      <script>\n",
              "        const buttonEl =\n",
              "          document.querySelector('#df-58416ed6-dd97-4c30-9ced-7c4213951aaa button.colab-df-convert');\n",
              "        buttonEl.style.display =\n",
              "          google.colab.kernel.accessAllowed ? 'block' : 'none';\n",
              "\n",
              "        async function convertToInteractive(key) {\n",
              "          const element = document.querySelector('#df-58416ed6-dd97-4c30-9ced-7c4213951aaa');\n",
              "          const dataTable =\n",
              "            await google.colab.kernel.invokeFunction('convertToInteractive',\n",
              "                                                     [key], {});\n",
              "          if (!dataTable) return;\n",
              "\n",
              "          const docLinkHtml = 'Like what you see? Visit the ' +\n",
              "            '<a target=\"_blank\" href=https://colab.research.google.com/notebooks/data_table.ipynb>data table notebook</a>'\n",
              "            + ' to learn more about interactive tables.';\n",
              "          element.innerHTML = '';\n",
              "          dataTable['output_type'] = 'display_data';\n",
              "          await google.colab.output.renderOutput(dataTable, element);\n",
              "          const docLink = document.createElement('div');\n",
              "          docLink.innerHTML = docLinkHtml;\n",
              "          element.appendChild(docLink);\n",
              "        }\n",
              "      </script>\n",
              "    </div>\n",
              "  </div>\n",
              "  "
            ]
          },
          "metadata": {},
          "execution_count": 71
        }
      ]
    },
    {
      "cell_type": "markdown",
      "source": [
        "## Datasets for Books"
      ],
      "metadata": {
        "id": "uTkna1LYOt_Q"
      }
    },
    {
      "cell_type": "markdown",
      "source": [
        "### Information Dataset"
      ],
      "metadata": {
        "id": "U5lVtFJypp6-"
      }
    },
    {
      "cell_type": "code",
      "source": [
        "#Books genre dataset\n",
        "books_df = pd.read_csv(\"/content/drive/MyDrive/MMDS_Project/datasets/books_1.Best_Books_Ever.csv\")\n",
        "books_df = books_df[[\"title\", \"genres\",\"description\", \"isbn\"]]\n",
        "books_df.columns = [\"title\", \"genres\",\"tags\", \"isbn\"]\n",
        "\n",
        "books_df['title'] = books_df['title'].str.lower()\n",
        "books_df.head()"
      ],
      "metadata": {
        "colab": {
          "base_uri": "https://localhost:8080/",
          "height": 206
        },
        "id": "EQTh9gSkHil0",
        "outputId": "055ba156-6d77-4c57-c920-fd8ca462cf05"
      },
      "execution_count": null,
      "outputs": [
        {
          "output_type": "execute_result",
          "data": {
            "text/plain": [
              "                                       title  \\\n",
              "0                           the hunger games   \n",
              "1  harry potter and the order of the phoenix   \n",
              "2                      to kill a mockingbird   \n",
              "3                        pride and prejudice   \n",
              "4                                   twilight   \n",
              "\n",
              "                                              genres  \\\n",
              "0  ['Young Adult', 'Fiction', 'Dystopia', 'Fantas...   \n",
              "1  ['Fantasy', 'Young Adult', 'Fiction', 'Magic',...   \n",
              "2  ['Classics', 'Fiction', 'Historical Fiction', ...   \n",
              "3  ['Classics', 'Fiction', 'Romance', 'Historical...   \n",
              "4  ['Young Adult', 'Fantasy', 'Romance', 'Vampire...   \n",
              "\n",
              "                                                tags           isbn  \n",
              "0  WINNING MEANS FAME AND FORTUNE.LOSING MEANS CE...  9780439023481  \n",
              "1  There is a door at the end of a silent corrido...  9780439358071  \n",
              "2  The unforgettable novel of a childhood in a sl...  9999999999999  \n",
              "3  Alternate cover edition of ISBN 9780679783268S...  9999999999999  \n",
              "4  About three things I was absolutely positive.\\...  9780316015844  "
            ],
            "text/html": [
              "\n",
              "  <div id=\"df-e58876f0-fd41-47ce-ae1b-228a0ae58ebb\">\n",
              "    <div class=\"colab-df-container\">\n",
              "      <div>\n",
              "<style scoped>\n",
              "    .dataframe tbody tr th:only-of-type {\n",
              "        vertical-align: middle;\n",
              "    }\n",
              "\n",
              "    .dataframe tbody tr th {\n",
              "        vertical-align: top;\n",
              "    }\n",
              "\n",
              "    .dataframe thead th {\n",
              "        text-align: right;\n",
              "    }\n",
              "</style>\n",
              "<table border=\"1\" class=\"dataframe\">\n",
              "  <thead>\n",
              "    <tr style=\"text-align: right;\">\n",
              "      <th></th>\n",
              "      <th>title</th>\n",
              "      <th>genres</th>\n",
              "      <th>tags</th>\n",
              "      <th>isbn</th>\n",
              "    </tr>\n",
              "  </thead>\n",
              "  <tbody>\n",
              "    <tr>\n",
              "      <th>0</th>\n",
              "      <td>the hunger games</td>\n",
              "      <td>['Young Adult', 'Fiction', 'Dystopia', 'Fantas...</td>\n",
              "      <td>WINNING MEANS FAME AND FORTUNE.LOSING MEANS CE...</td>\n",
              "      <td>9780439023481</td>\n",
              "    </tr>\n",
              "    <tr>\n",
              "      <th>1</th>\n",
              "      <td>harry potter and the order of the phoenix</td>\n",
              "      <td>['Fantasy', 'Young Adult', 'Fiction', 'Magic',...</td>\n",
              "      <td>There is a door at the end of a silent corrido...</td>\n",
              "      <td>9780439358071</td>\n",
              "    </tr>\n",
              "    <tr>\n",
              "      <th>2</th>\n",
              "      <td>to kill a mockingbird</td>\n",
              "      <td>['Classics', 'Fiction', 'Historical Fiction', ...</td>\n",
              "      <td>The unforgettable novel of a childhood in a sl...</td>\n",
              "      <td>9999999999999</td>\n",
              "    </tr>\n",
              "    <tr>\n",
              "      <th>3</th>\n",
              "      <td>pride and prejudice</td>\n",
              "      <td>['Classics', 'Fiction', 'Romance', 'Historical...</td>\n",
              "      <td>Alternate cover edition of ISBN 9780679783268S...</td>\n",
              "      <td>9999999999999</td>\n",
              "    </tr>\n",
              "    <tr>\n",
              "      <th>4</th>\n",
              "      <td>twilight</td>\n",
              "      <td>['Young Adult', 'Fantasy', 'Romance', 'Vampire...</td>\n",
              "      <td>About three things I was absolutely positive.\\...</td>\n",
              "      <td>9780316015844</td>\n",
              "    </tr>\n",
              "  </tbody>\n",
              "</table>\n",
              "</div>\n",
              "      <button class=\"colab-df-convert\" onclick=\"convertToInteractive('df-e58876f0-fd41-47ce-ae1b-228a0ae58ebb')\"\n",
              "              title=\"Convert this dataframe to an interactive table.\"\n",
              "              style=\"display:none;\">\n",
              "        \n",
              "  <svg xmlns=\"http://www.w3.org/2000/svg\" height=\"24px\"viewBox=\"0 0 24 24\"\n",
              "       width=\"24px\">\n",
              "    <path d=\"M0 0h24v24H0V0z\" fill=\"none\"/>\n",
              "    <path d=\"M18.56 5.44l.94 2.06.94-2.06 2.06-.94-2.06-.94-.94-2.06-.94 2.06-2.06.94zm-11 1L8.5 8.5l.94-2.06 2.06-.94-2.06-.94L8.5 2.5l-.94 2.06-2.06.94zm10 10l.94 2.06.94-2.06 2.06-.94-2.06-.94-.94-2.06-.94 2.06-2.06.94z\"/><path d=\"M17.41 7.96l-1.37-1.37c-.4-.4-.92-.59-1.43-.59-.52 0-1.04.2-1.43.59L10.3 9.45l-7.72 7.72c-.78.78-.78 2.05 0 2.83L4 21.41c.39.39.9.59 1.41.59.51 0 1.02-.2 1.41-.59l7.78-7.78 2.81-2.81c.8-.78.8-2.07 0-2.86zM5.41 20L4 18.59l7.72-7.72 1.47 1.35L5.41 20z\"/>\n",
              "  </svg>\n",
              "      </button>\n",
              "      \n",
              "  <style>\n",
              "    .colab-df-container {\n",
              "      display:flex;\n",
              "      flex-wrap:wrap;\n",
              "      gap: 12px;\n",
              "    }\n",
              "\n",
              "    .colab-df-convert {\n",
              "      background-color: #E8F0FE;\n",
              "      border: none;\n",
              "      border-radius: 50%;\n",
              "      cursor: pointer;\n",
              "      display: none;\n",
              "      fill: #1967D2;\n",
              "      height: 32px;\n",
              "      padding: 0 0 0 0;\n",
              "      width: 32px;\n",
              "    }\n",
              "\n",
              "    .colab-df-convert:hover {\n",
              "      background-color: #E2EBFA;\n",
              "      box-shadow: 0px 1px 2px rgba(60, 64, 67, 0.3), 0px 1px 3px 1px rgba(60, 64, 67, 0.15);\n",
              "      fill: #174EA6;\n",
              "    }\n",
              "\n",
              "    [theme=dark] .colab-df-convert {\n",
              "      background-color: #3B4455;\n",
              "      fill: #D2E3FC;\n",
              "    }\n",
              "\n",
              "    [theme=dark] .colab-df-convert:hover {\n",
              "      background-color: #434B5C;\n",
              "      box-shadow: 0px 1px 3px 1px rgba(0, 0, 0, 0.15);\n",
              "      filter: drop-shadow(0px 1px 2px rgba(0, 0, 0, 0.3));\n",
              "      fill: #FFFFFF;\n",
              "    }\n",
              "  </style>\n",
              "\n",
              "      <script>\n",
              "        const buttonEl =\n",
              "          document.querySelector('#df-e58876f0-fd41-47ce-ae1b-228a0ae58ebb button.colab-df-convert');\n",
              "        buttonEl.style.display =\n",
              "          google.colab.kernel.accessAllowed ? 'block' : 'none';\n",
              "\n",
              "        async function convertToInteractive(key) {\n",
              "          const element = document.querySelector('#df-e58876f0-fd41-47ce-ae1b-228a0ae58ebb');\n",
              "          const dataTable =\n",
              "            await google.colab.kernel.invokeFunction('convertToInteractive',\n",
              "                                                     [key], {});\n",
              "          if (!dataTable) return;\n",
              "\n",
              "          const docLinkHtml = 'Like what you see? Visit the ' +\n",
              "            '<a target=\"_blank\" href=https://colab.research.google.com/notebooks/data_table.ipynb>data table notebook</a>'\n",
              "            + ' to learn more about interactive tables.';\n",
              "          element.innerHTML = '';\n",
              "          dataTable['output_type'] = 'display_data';\n",
              "          await google.colab.output.renderOutput(dataTable, element);\n",
              "          const docLink = document.createElement('div');\n",
              "          docLink.innerHTML = docLinkHtml;\n",
              "          element.appendChild(docLink);\n",
              "        }\n",
              "      </script>\n",
              "    </div>\n",
              "  </div>\n",
              "  "
            ]
          },
          "metadata": {},
          "execution_count": 84
        }
      ]
    },
    {
      "cell_type": "code",
      "source": [
        "#Preprocessing, Normalizing and Saving\n",
        "\n",
        "#Normalizing tags\n",
        "books_df['tags'] = books_df.tags.astype(str)\n",
        "books_df['tags'] = books_df['tags'].str.lower()\n",
        "books_df = clean_column(books_df, 'tags')\n",
        "books_df = string_to_list(books_df, 'tags')\n",
        "\n",
        "#Normalizing genres\n",
        "books_df['genres'] = books_df['genres'].str.lower()\n",
        "books_df = clean_column(books_df, 'genres')\n",
        "books_df = string_to_list(books_df, 'genres')\n",
        "\n",
        "#Saving final books dataframe to file\n",
        "list_of_books = books_df['title'].tolist()\n",
        "books_df.to_csv('/content/drive/MyDrive/MMDS_Project/datasets/final_data/books_data.csv',index = False)\n",
        "books_df.head()"
      ],
      "metadata": {
        "colab": {
          "base_uri": "https://localhost:8080/",
          "height": 206
        },
        "id": "mej6F6XdTrZu",
        "outputId": "18d0b1d1-6396-485f-a592-031ee442430f"
      },
      "execution_count": null,
      "outputs": [
        {
          "output_type": "execute_result",
          "data": {
            "text/plain": [
              "                                       title  \\\n",
              "0                           the hunger games   \n",
              "1  harry potter and the order of the phoenix   \n",
              "2                      to kill a mockingbird   \n",
              "3                        pride and prejudice   \n",
              "4                                   twilight   \n",
              "\n",
              "                                              genres  \\\n",
              "0  [action, adult, adventure, apocalyptic, dystop...   \n",
              "1  [adult, adventure, audiobook, childrens, class...   \n",
              "2  [adult, classics, fiction, high, historical, l...   \n",
              "3  [adult, classic, classics, fiction, historical...   \n",
              "4  [adult, fantasy, fiction, paranormal, romance,...   \n",
              "\n",
              "                                                tags           isbn  \n",
              "0  [ages, america, annual, beforeand, begun, boy,...  9780439023481  \n",
              "1  [arts, authorities, big, boundless, corridor, ...  9780439358071  \n",
              "2  [academy, alabama, american, appeal, awardwinn...  9999999999999  \n",
              "3  [alternate, appeared, austen, austens, beau, b...  9999999999999  \n",
              "4  [absolutely, bethat, bite, bloodand, didnt, do...  9780316015844  "
            ],
            "text/html": [
              "\n",
              "  <div id=\"df-9790195f-8e87-4451-ba4e-8de3769af207\">\n",
              "    <div class=\"colab-df-container\">\n",
              "      <div>\n",
              "<style scoped>\n",
              "    .dataframe tbody tr th:only-of-type {\n",
              "        vertical-align: middle;\n",
              "    }\n",
              "\n",
              "    .dataframe tbody tr th {\n",
              "        vertical-align: top;\n",
              "    }\n",
              "\n",
              "    .dataframe thead th {\n",
              "        text-align: right;\n",
              "    }\n",
              "</style>\n",
              "<table border=\"1\" class=\"dataframe\">\n",
              "  <thead>\n",
              "    <tr style=\"text-align: right;\">\n",
              "      <th></th>\n",
              "      <th>title</th>\n",
              "      <th>genres</th>\n",
              "      <th>tags</th>\n",
              "      <th>isbn</th>\n",
              "    </tr>\n",
              "  </thead>\n",
              "  <tbody>\n",
              "    <tr>\n",
              "      <th>0</th>\n",
              "      <td>the hunger games</td>\n",
              "      <td>[action, adult, adventure, apocalyptic, dystop...</td>\n",
              "      <td>[ages, america, annual, beforeand, begun, boy,...</td>\n",
              "      <td>9780439023481</td>\n",
              "    </tr>\n",
              "    <tr>\n",
              "      <th>1</th>\n",
              "      <td>harry potter and the order of the phoenix</td>\n",
              "      <td>[adult, adventure, audiobook, childrens, class...</td>\n",
              "      <td>[arts, authorities, big, boundless, corridor, ...</td>\n",
              "      <td>9780439358071</td>\n",
              "    </tr>\n",
              "    <tr>\n",
              "      <th>2</th>\n",
              "      <td>to kill a mockingbird</td>\n",
              "      <td>[adult, classics, fiction, high, historical, l...</td>\n",
              "      <td>[academy, alabama, american, appeal, awardwinn...</td>\n",
              "      <td>9999999999999</td>\n",
              "    </tr>\n",
              "    <tr>\n",
              "      <th>3</th>\n",
              "      <td>pride and prejudice</td>\n",
              "      <td>[adult, classic, classics, fiction, historical...</td>\n",
              "      <td>[alternate, appeared, austen, austens, beau, b...</td>\n",
              "      <td>9999999999999</td>\n",
              "    </tr>\n",
              "    <tr>\n",
              "      <th>4</th>\n",
              "      <td>twilight</td>\n",
              "      <td>[adult, fantasy, fiction, paranormal, romance,...</td>\n",
              "      <td>[absolutely, bethat, bite, bloodand, didnt, do...</td>\n",
              "      <td>9780316015844</td>\n",
              "    </tr>\n",
              "  </tbody>\n",
              "</table>\n",
              "</div>\n",
              "      <button class=\"colab-df-convert\" onclick=\"convertToInteractive('df-9790195f-8e87-4451-ba4e-8de3769af207')\"\n",
              "              title=\"Convert this dataframe to an interactive table.\"\n",
              "              style=\"display:none;\">\n",
              "        \n",
              "  <svg xmlns=\"http://www.w3.org/2000/svg\" height=\"24px\"viewBox=\"0 0 24 24\"\n",
              "       width=\"24px\">\n",
              "    <path d=\"M0 0h24v24H0V0z\" fill=\"none\"/>\n",
              "    <path d=\"M18.56 5.44l.94 2.06.94-2.06 2.06-.94-2.06-.94-.94-2.06-.94 2.06-2.06.94zm-11 1L8.5 8.5l.94-2.06 2.06-.94-2.06-.94L8.5 2.5l-.94 2.06-2.06.94zm10 10l.94 2.06.94-2.06 2.06-.94-2.06-.94-.94-2.06-.94 2.06-2.06.94z\"/><path d=\"M17.41 7.96l-1.37-1.37c-.4-.4-.92-.59-1.43-.59-.52 0-1.04.2-1.43.59L10.3 9.45l-7.72 7.72c-.78.78-.78 2.05 0 2.83L4 21.41c.39.39.9.59 1.41.59.51 0 1.02-.2 1.41-.59l7.78-7.78 2.81-2.81c.8-.78.8-2.07 0-2.86zM5.41 20L4 18.59l7.72-7.72 1.47 1.35L5.41 20z\"/>\n",
              "  </svg>\n",
              "      </button>\n",
              "      \n",
              "  <style>\n",
              "    .colab-df-container {\n",
              "      display:flex;\n",
              "      flex-wrap:wrap;\n",
              "      gap: 12px;\n",
              "    }\n",
              "\n",
              "    .colab-df-convert {\n",
              "      background-color: #E8F0FE;\n",
              "      border: none;\n",
              "      border-radius: 50%;\n",
              "      cursor: pointer;\n",
              "      display: none;\n",
              "      fill: #1967D2;\n",
              "      height: 32px;\n",
              "      padding: 0 0 0 0;\n",
              "      width: 32px;\n",
              "    }\n",
              "\n",
              "    .colab-df-convert:hover {\n",
              "      background-color: #E2EBFA;\n",
              "      box-shadow: 0px 1px 2px rgba(60, 64, 67, 0.3), 0px 1px 3px 1px rgba(60, 64, 67, 0.15);\n",
              "      fill: #174EA6;\n",
              "    }\n",
              "\n",
              "    [theme=dark] .colab-df-convert {\n",
              "      background-color: #3B4455;\n",
              "      fill: #D2E3FC;\n",
              "    }\n",
              "\n",
              "    [theme=dark] .colab-df-convert:hover {\n",
              "      background-color: #434B5C;\n",
              "      box-shadow: 0px 1px 3px 1px rgba(0, 0, 0, 0.15);\n",
              "      filter: drop-shadow(0px 1px 2px rgba(0, 0, 0, 0.3));\n",
              "      fill: #FFFFFF;\n",
              "    }\n",
              "  </style>\n",
              "\n",
              "      <script>\n",
              "        const buttonEl =\n",
              "          document.querySelector('#df-9790195f-8e87-4451-ba4e-8de3769af207 button.colab-df-convert');\n",
              "        buttonEl.style.display =\n",
              "          google.colab.kernel.accessAllowed ? 'block' : 'none';\n",
              "\n",
              "        async function convertToInteractive(key) {\n",
              "          const element = document.querySelector('#df-9790195f-8e87-4451-ba4e-8de3769af207');\n",
              "          const dataTable =\n",
              "            await google.colab.kernel.invokeFunction('convertToInteractive',\n",
              "                                                     [key], {});\n",
              "          if (!dataTable) return;\n",
              "\n",
              "          const docLinkHtml = 'Like what you see? Visit the ' +\n",
              "            '<a target=\"_blank\" href=https://colab.research.google.com/notebooks/data_table.ipynb>data table notebook</a>'\n",
              "            + ' to learn more about interactive tables.';\n",
              "          element.innerHTML = '';\n",
              "          dataTable['output_type'] = 'display_data';\n",
              "          await google.colab.output.renderOutput(dataTable, element);\n",
              "          const docLink = document.createElement('div');\n",
              "          docLink.innerHTML = docLinkHtml;\n",
              "          element.appendChild(docLink);\n",
              "        }\n",
              "      </script>\n",
              "    </div>\n",
              "  </div>\n",
              "  "
            ]
          },
          "metadata": {},
          "execution_count": 85
        }
      ]
    },
    {
      "cell_type": "markdown",
      "source": [
        "### Ratings Dataset"
      ],
      "metadata": {
        "id": "OFLodyn8evwp"
      }
    },
    {
      "cell_type": "code",
      "source": [
        "#Books ratings dataset\n",
        "path2 = r'/content/drive/MyDrive/MMDS_Project/datasets/user/'                     # use your path\n",
        "all_files2 = glob.glob(os.path.join(path2, \"*.csv\"))     # advisable to use os.path.join as this makes concatenation OS independent\n",
        "\n",
        "df_from_each_file2 = (pd.read_csv(f) for f in all_files2)\n",
        "books_ratings = pd.concat(df_from_each_file2, ignore_index=True)\n",
        "books_ratings.head()"
      ],
      "metadata": {
        "colab": {
          "base_uri": "https://localhost:8080/",
          "height": 206
        },
        "id": "2slW_L0xH0ql",
        "outputId": "42e4df0d-0b9e-4cd4-e01d-d0aee5b1b7c3"
      },
      "execution_count": null,
      "outputs": [
        {
          "output_type": "execute_result",
          "data": {
            "text/plain": [
              "     ID    Name                             Rating\n",
              "0  2098  Rating  This user doesn't have any rating\n",
              "1  2099  Rating  This user doesn't have any rating\n",
              "2  2103  Rating  This user doesn't have any rating\n",
              "3  2105  Rating  This user doesn't have any rating\n",
              "4  2106  Rating  This user doesn't have any rating"
            ],
            "text/html": [
              "\n",
              "  <div id=\"df-e4eb0a9b-35aa-48af-b27f-277220b50e79\">\n",
              "    <div class=\"colab-df-container\">\n",
              "      <div>\n",
              "<style scoped>\n",
              "    .dataframe tbody tr th:only-of-type {\n",
              "        vertical-align: middle;\n",
              "    }\n",
              "\n",
              "    .dataframe tbody tr th {\n",
              "        vertical-align: top;\n",
              "    }\n",
              "\n",
              "    .dataframe thead th {\n",
              "        text-align: right;\n",
              "    }\n",
              "</style>\n",
              "<table border=\"1\" class=\"dataframe\">\n",
              "  <thead>\n",
              "    <tr style=\"text-align: right;\">\n",
              "      <th></th>\n",
              "      <th>ID</th>\n",
              "      <th>Name</th>\n",
              "      <th>Rating</th>\n",
              "    </tr>\n",
              "  </thead>\n",
              "  <tbody>\n",
              "    <tr>\n",
              "      <th>0</th>\n",
              "      <td>2098</td>\n",
              "      <td>Rating</td>\n",
              "      <td>This user doesn't have any rating</td>\n",
              "    </tr>\n",
              "    <tr>\n",
              "      <th>1</th>\n",
              "      <td>2099</td>\n",
              "      <td>Rating</td>\n",
              "      <td>This user doesn't have any rating</td>\n",
              "    </tr>\n",
              "    <tr>\n",
              "      <th>2</th>\n",
              "      <td>2103</td>\n",
              "      <td>Rating</td>\n",
              "      <td>This user doesn't have any rating</td>\n",
              "    </tr>\n",
              "    <tr>\n",
              "      <th>3</th>\n",
              "      <td>2105</td>\n",
              "      <td>Rating</td>\n",
              "      <td>This user doesn't have any rating</td>\n",
              "    </tr>\n",
              "    <tr>\n",
              "      <th>4</th>\n",
              "      <td>2106</td>\n",
              "      <td>Rating</td>\n",
              "      <td>This user doesn't have any rating</td>\n",
              "    </tr>\n",
              "  </tbody>\n",
              "</table>\n",
              "</div>\n",
              "      <button class=\"colab-df-convert\" onclick=\"convertToInteractive('df-e4eb0a9b-35aa-48af-b27f-277220b50e79')\"\n",
              "              title=\"Convert this dataframe to an interactive table.\"\n",
              "              style=\"display:none;\">\n",
              "        \n",
              "  <svg xmlns=\"http://www.w3.org/2000/svg\" height=\"24px\"viewBox=\"0 0 24 24\"\n",
              "       width=\"24px\">\n",
              "    <path d=\"M0 0h24v24H0V0z\" fill=\"none\"/>\n",
              "    <path d=\"M18.56 5.44l.94 2.06.94-2.06 2.06-.94-2.06-.94-.94-2.06-.94 2.06-2.06.94zm-11 1L8.5 8.5l.94-2.06 2.06-.94-2.06-.94L8.5 2.5l-.94 2.06-2.06.94zm10 10l.94 2.06.94-2.06 2.06-.94-2.06-.94-.94-2.06-.94 2.06-2.06.94z\"/><path d=\"M17.41 7.96l-1.37-1.37c-.4-.4-.92-.59-1.43-.59-.52 0-1.04.2-1.43.59L10.3 9.45l-7.72 7.72c-.78.78-.78 2.05 0 2.83L4 21.41c.39.39.9.59 1.41.59.51 0 1.02-.2 1.41-.59l7.78-7.78 2.81-2.81c.8-.78.8-2.07 0-2.86zM5.41 20L4 18.59l7.72-7.72 1.47 1.35L5.41 20z\"/>\n",
              "  </svg>\n",
              "      </button>\n",
              "      \n",
              "  <style>\n",
              "    .colab-df-container {\n",
              "      display:flex;\n",
              "      flex-wrap:wrap;\n",
              "      gap: 12px;\n",
              "    }\n",
              "\n",
              "    .colab-df-convert {\n",
              "      background-color: #E8F0FE;\n",
              "      border: none;\n",
              "      border-radius: 50%;\n",
              "      cursor: pointer;\n",
              "      display: none;\n",
              "      fill: #1967D2;\n",
              "      height: 32px;\n",
              "      padding: 0 0 0 0;\n",
              "      width: 32px;\n",
              "    }\n",
              "\n",
              "    .colab-df-convert:hover {\n",
              "      background-color: #E2EBFA;\n",
              "      box-shadow: 0px 1px 2px rgba(60, 64, 67, 0.3), 0px 1px 3px 1px rgba(60, 64, 67, 0.15);\n",
              "      fill: #174EA6;\n",
              "    }\n",
              "\n",
              "    [theme=dark] .colab-df-convert {\n",
              "      background-color: #3B4455;\n",
              "      fill: #D2E3FC;\n",
              "    }\n",
              "\n",
              "    [theme=dark] .colab-df-convert:hover {\n",
              "      background-color: #434B5C;\n",
              "      box-shadow: 0px 1px 3px 1px rgba(0, 0, 0, 0.15);\n",
              "      filter: drop-shadow(0px 1px 2px rgba(0, 0, 0, 0.3));\n",
              "      fill: #FFFFFF;\n",
              "    }\n",
              "  </style>\n",
              "\n",
              "      <script>\n",
              "        const buttonEl =\n",
              "          document.querySelector('#df-e4eb0a9b-35aa-48af-b27f-277220b50e79 button.colab-df-convert');\n",
              "        buttonEl.style.display =\n",
              "          google.colab.kernel.accessAllowed ? 'block' : 'none';\n",
              "\n",
              "        async function convertToInteractive(key) {\n",
              "          const element = document.querySelector('#df-e4eb0a9b-35aa-48af-b27f-277220b50e79');\n",
              "          const dataTable =\n",
              "            await google.colab.kernel.invokeFunction('convertToInteractive',\n",
              "                                                     [key], {});\n",
              "          if (!dataTable) return;\n",
              "\n",
              "          const docLinkHtml = 'Like what you see? Visit the ' +\n",
              "            '<a target=\"_blank\" href=https://colab.research.google.com/notebooks/data_table.ipynb>data table notebook</a>'\n",
              "            + ' to learn more about interactive tables.';\n",
              "          element.innerHTML = '';\n",
              "          dataTable['output_type'] = 'display_data';\n",
              "          await google.colab.output.renderOutput(dataTable, element);\n",
              "          const docLink = document.createElement('div');\n",
              "          docLink.innerHTML = docLinkHtml;\n",
              "          element.appendChild(docLink);\n",
              "        }\n",
              "      </script>\n",
              "    </div>\n",
              "  </div>\n",
              "  "
            ]
          },
          "metadata": {},
          "execution_count": 156
        }
      ]
    },
    {
      "cell_type": "code",
      "source": [
        "#Preprocessing, Normalizing and Saving\n",
        "\n",
        "#Normalizing\n",
        "d = {\"This user doesn't have any rating\":0, 'really liked it':4, 'liked it':3,'it was amazing':5, 'it was ok':2,'did not like it':1 }\n",
        "books_ratings['rating'] = books_ratings['Rating'].map(d)\n",
        "books_ratings.columns = ['userId','title', 'review', 'rating']\n",
        "books_ratings['title'] = books_ratings['title'].str.lower()\n",
        "books_ratings = books_ratings.drop(columns=['review'])\n",
        "books_ratings = books_ratings.loc[books_ratings['title'].isin(list_of_books)]\n",
        "books_ratings = books_ratings.sort_values(by=['userId'])\n",
        "books_ratings = books_ratings.reset_index(drop=True)\n",
        "\n",
        "#Saving final books ratings dataframe to file\n",
        "books_ratings.to_csv('/content/drive/MyDrive/MMDS_Project/datasets/final_data/books_ratings.csv',index = False)\n",
        "books_ratings.head()"
      ],
      "metadata": {
        "colab": {
          "base_uri": "https://localhost:8080/",
          "height": 206
        },
        "id": "0U0H7EoRbLeD",
        "outputId": "718fec04-13a3-42e1-9314-3f553a4542d2"
      },
      "execution_count": null,
      "outputs": [
        {
          "output_type": "execute_result",
          "data": {
            "text/plain": [
              "   userId                                              title  rating\n",
              "0       1                                         bossypants       4\n",
              "1       1                      the tale of mr. jeremy fisher       5\n",
              "2       1                           the tale of peter rabbit       5\n",
              "3       1  the life-changing magic of tidying up: the jap...       5\n",
              "4       1  team of rivals: the political genius of abraha...       5"
            ],
            "text/html": [
              "\n",
              "  <div id=\"df-203e3757-2781-4005-bf91-8624fcaa9604\">\n",
              "    <div class=\"colab-df-container\">\n",
              "      <div>\n",
              "<style scoped>\n",
              "    .dataframe tbody tr th:only-of-type {\n",
              "        vertical-align: middle;\n",
              "    }\n",
              "\n",
              "    .dataframe tbody tr th {\n",
              "        vertical-align: top;\n",
              "    }\n",
              "\n",
              "    .dataframe thead th {\n",
              "        text-align: right;\n",
              "    }\n",
              "</style>\n",
              "<table border=\"1\" class=\"dataframe\">\n",
              "  <thead>\n",
              "    <tr style=\"text-align: right;\">\n",
              "      <th></th>\n",
              "      <th>userId</th>\n",
              "      <th>title</th>\n",
              "      <th>rating</th>\n",
              "    </tr>\n",
              "  </thead>\n",
              "  <tbody>\n",
              "    <tr>\n",
              "      <th>0</th>\n",
              "      <td>1</td>\n",
              "      <td>bossypants</td>\n",
              "      <td>4</td>\n",
              "    </tr>\n",
              "    <tr>\n",
              "      <th>1</th>\n",
              "      <td>1</td>\n",
              "      <td>the tale of mr. jeremy fisher</td>\n",
              "      <td>5</td>\n",
              "    </tr>\n",
              "    <tr>\n",
              "      <th>2</th>\n",
              "      <td>1</td>\n",
              "      <td>the tale of peter rabbit</td>\n",
              "      <td>5</td>\n",
              "    </tr>\n",
              "    <tr>\n",
              "      <th>3</th>\n",
              "      <td>1</td>\n",
              "      <td>the life-changing magic of tidying up: the jap...</td>\n",
              "      <td>5</td>\n",
              "    </tr>\n",
              "    <tr>\n",
              "      <th>4</th>\n",
              "      <td>1</td>\n",
              "      <td>team of rivals: the political genius of abraha...</td>\n",
              "      <td>5</td>\n",
              "    </tr>\n",
              "  </tbody>\n",
              "</table>\n",
              "</div>\n",
              "      <button class=\"colab-df-convert\" onclick=\"convertToInteractive('df-203e3757-2781-4005-bf91-8624fcaa9604')\"\n",
              "              title=\"Convert this dataframe to an interactive table.\"\n",
              "              style=\"display:none;\">\n",
              "        \n",
              "  <svg xmlns=\"http://www.w3.org/2000/svg\" height=\"24px\"viewBox=\"0 0 24 24\"\n",
              "       width=\"24px\">\n",
              "    <path d=\"M0 0h24v24H0V0z\" fill=\"none\"/>\n",
              "    <path d=\"M18.56 5.44l.94 2.06.94-2.06 2.06-.94-2.06-.94-.94-2.06-.94 2.06-2.06.94zm-11 1L8.5 8.5l.94-2.06 2.06-.94-2.06-.94L8.5 2.5l-.94 2.06-2.06.94zm10 10l.94 2.06.94-2.06 2.06-.94-2.06-.94-.94-2.06-.94 2.06-2.06.94z\"/><path d=\"M17.41 7.96l-1.37-1.37c-.4-.4-.92-.59-1.43-.59-.52 0-1.04.2-1.43.59L10.3 9.45l-7.72 7.72c-.78.78-.78 2.05 0 2.83L4 21.41c.39.39.9.59 1.41.59.51 0 1.02-.2 1.41-.59l7.78-7.78 2.81-2.81c.8-.78.8-2.07 0-2.86zM5.41 20L4 18.59l7.72-7.72 1.47 1.35L5.41 20z\"/>\n",
              "  </svg>\n",
              "      </button>\n",
              "      \n",
              "  <style>\n",
              "    .colab-df-container {\n",
              "      display:flex;\n",
              "      flex-wrap:wrap;\n",
              "      gap: 12px;\n",
              "    }\n",
              "\n",
              "    .colab-df-convert {\n",
              "      background-color: #E8F0FE;\n",
              "      border: none;\n",
              "      border-radius: 50%;\n",
              "      cursor: pointer;\n",
              "      display: none;\n",
              "      fill: #1967D2;\n",
              "      height: 32px;\n",
              "      padding: 0 0 0 0;\n",
              "      width: 32px;\n",
              "    }\n",
              "\n",
              "    .colab-df-convert:hover {\n",
              "      background-color: #E2EBFA;\n",
              "      box-shadow: 0px 1px 2px rgba(60, 64, 67, 0.3), 0px 1px 3px 1px rgba(60, 64, 67, 0.15);\n",
              "      fill: #174EA6;\n",
              "    }\n",
              "\n",
              "    [theme=dark] .colab-df-convert {\n",
              "      background-color: #3B4455;\n",
              "      fill: #D2E3FC;\n",
              "    }\n",
              "\n",
              "    [theme=dark] .colab-df-convert:hover {\n",
              "      background-color: #434B5C;\n",
              "      box-shadow: 0px 1px 3px 1px rgba(0, 0, 0, 0.15);\n",
              "      filter: drop-shadow(0px 1px 2px rgba(0, 0, 0, 0.3));\n",
              "      fill: #FFFFFF;\n",
              "    }\n",
              "  </style>\n",
              "\n",
              "      <script>\n",
              "        const buttonEl =\n",
              "          document.querySelector('#df-203e3757-2781-4005-bf91-8624fcaa9604 button.colab-df-convert');\n",
              "        buttonEl.style.display =\n",
              "          google.colab.kernel.accessAllowed ? 'block' : 'none';\n",
              "\n",
              "        async function convertToInteractive(key) {\n",
              "          const element = document.querySelector('#df-203e3757-2781-4005-bf91-8624fcaa9604');\n",
              "          const dataTable =\n",
              "            await google.colab.kernel.invokeFunction('convertToInteractive',\n",
              "                                                     [key], {});\n",
              "          if (!dataTable) return;\n",
              "\n",
              "          const docLinkHtml = 'Like what you see? Visit the ' +\n",
              "            '<a target=\"_blank\" href=https://colab.research.google.com/notebooks/data_table.ipynb>data table notebook</a>'\n",
              "            + ' to learn more about interactive tables.';\n",
              "          element.innerHTML = '';\n",
              "          dataTable['output_type'] = 'display_data';\n",
              "          await google.colab.output.renderOutput(dataTable, element);\n",
              "          const docLink = document.createElement('div');\n",
              "          docLink.innerHTML = docLinkHtml;\n",
              "          element.appendChild(docLink);\n",
              "        }\n",
              "      </script>\n",
              "    </div>\n",
              "  </div>\n",
              "  "
            ]
          },
          "metadata": {},
          "execution_count": 157
        }
      ]
    },
    {
      "cell_type": "markdown",
      "source": [
        "### Books PySpark (Spark) DataFrame\n",
        "*(For Collaborative Filtering)*"
      ],
      "metadata": {
        "id": "UuNWQeL0IDb2"
      }
    },
    {
      "cell_type": "code",
      "source": [
        "#Conversion of Pandas to Spark and Saving in new file\n",
        "books_ratings_temp = books_ratings.reset_index()\n",
        "books_ratings_schema = StructType([\n",
        "                                   StructField(\"index\", IntegerType(), True),\n",
        "                                   StructField(\"userId\", IntegerType(), True),\n",
        "                                   StructField(\"title\", StringType(), True),\n",
        "                                   StructField(\"rating\", IntegerType(), True)\n",
        "                                   ])\n",
        "books_ratings_spark = spark.createDataFrame(books_ratings_temp, schema = books_ratings_schema)\n",
        "books_ratings_spark.write.option(\"header\",True).csv(\"/content/drive/MyDrive/MMDS_Project/datasets/final_data/books_ratings_spark.csv\")\n",
        "books_ratings_spark.show()"
      ],
      "metadata": {
        "colab": {
          "base_uri": "https://localhost:8080/"
        },
        "id": "BkEXef1EIavb",
        "outputId": "8315a641-fcea-4c31-9f08-ad959b684c33"
      },
      "execution_count": null,
      "outputs": [
        {
          "output_type": "stream",
          "name": "stdout",
          "text": [
            "+-----+------+--------------------+------+\n",
            "|index|userId|               title|rating|\n",
            "+-----+------+--------------------+------+\n",
            "|    0|     1|          bossypants|     4|\n",
            "|    1|     1|the tale of mr. j...|     5|\n",
            "|    2|     1|the tale of peter...|     5|\n",
            "|    3|     1|the life-changing...|     5|\n",
            "|    4|     1|team of rivals: t...|     5|\n",
            "|    5|     1|losing my virgini...|     5|\n",
            "|    6|     1|   lord of the flies|     5|\n",
            "|    7|     1|                open|     5|\n",
            "|    8|     1|elon musk: tesla,...|     5|\n",
            "|    9|     1|             the egg|     4|\n",
            "|   10|     1|     deception point|     2|\n",
            "|   11|     1|            airframe|     3|\n",
            "|   12|     1|                  s.|     4|\n",
            "|   13|     1|all the light we ...|     4|\n",
            "|   14|     1|sapiens: a brief ...|     5|\n",
            "|   15|     1|death in the afte...|     4|\n",
            "|   16|     1|delivering happin...|     5|\n",
            "|   17|     1|the diary of a yo...|     4|\n",
            "|   18|     1|    romeo and juliet|     4|\n",
            "|   19|     1|            the list|     4|\n",
            "+-----+------+--------------------+------+\n",
            "only showing top 20 rows\n",
            "\n"
          ]
        }
      ]
    },
    {
      "cell_type": "markdown",
      "source": [
        "# Recommendation Functions"
      ],
      "metadata": {
        "id": "ukQP_ZpOmLPm"
      }
    },
    {
      "cell_type": "markdown",
      "source": [
        "## Loading Pre-Processed Datasets"
      ],
      "metadata": {
        "id": "xWjk4vvWmpN7"
      }
    },
    {
      "cell_type": "code",
      "source": [
        "#Movies Datasets\n",
        "movies_data = pd.read_csv('/content/drive/MyDrive/MMDS_Project/datasets/final_data/movies_data.csv')\n",
        "list_of_movies = movies_data['title'].tolist()\n",
        "movies_ratings = pd.read_csv('/content/drive/MyDrive/MMDS_Project/datasets/final_data/movies_ratings.csv')\n",
        "\n",
        "#Books Datasets\n",
        "books_data = pd.read_csv('/content/drive/MyDrive/MMDS_Project/datasets/final_data/books_data.csv')\n",
        "list_of_books = books_data['title'].tolist()\n",
        "books_ratings = pd.read_csv('/content/drive/MyDrive/MMDS_Project/datasets/final_data/books_ratings.csv')\n",
        "\n",
        "#Books Spark Data\n",
        "books_ratings_schema = StructType([\n",
        "                                   StructField(\"index\", IntegerType(), True),\n",
        "                                   StructField(\"userId\", IntegerType(), True),\n",
        "                                   StructField(\"title\", StringType(), True),\n",
        "                                   StructField(\"rating\", IntegerType(), True)\n",
        "                                   ])\n",
        "books_ratings_spark = spark.read.option(\"header\",True).schema(books_ratings_schema).csv(\"/content/drive/MyDrive/MMDS_Project/datasets/final_data/books_ratings_spark.csv\")"
      ],
      "metadata": {
        "id": "JvcEb3GmmuTC"
      },
      "execution_count": null,
      "outputs": []
    },
    {
      "cell_type": "code",
      "source": [
        "#Printing Shapes of all the loaded databases\n",
        "print(\"----------MOVIES DATASET----------\")\n",
        "print(\"Number of Total Movies:\", movies_data['title'].count())\n",
        "print(\"Number of Total Movie Reviews:\", movies_ratings['rating'].count())\n",
        "print(\"\\n----------BOOKS DATASET----------\")\n",
        "print(\"Number of Total Books:\", books_data['title'].count())\n",
        "print(\"Number of Total Book Reviews:\", books_ratings['rating'].count())"
      ],
      "metadata": {
        "colab": {
          "base_uri": "https://localhost:8080/"
        },
        "id": "V8-gDHudxQme",
        "outputId": "62a8b4d6-f514-4c54-e2ca-c9b0405d3a7d"
      },
      "execution_count": null,
      "outputs": [
        {
          "output_type": "stream",
          "name": "stdout",
          "text": [
            "----------MOVIES DATASET----------\n",
            "Number of Total Movies: 19545\n",
            "Number of Total Movie Reviews: 20000263\n",
            "\n",
            "----------BOOKS DATASET----------\n",
            "Number of Total Books: 52478\n",
            "Number of Total Book Reviews: 155635\n"
          ]
        }
      ]
    },
    {
      "cell_type": "markdown",
      "source": [
        "## Initial processing of the input book"
      ],
      "metadata": {
        "id": "bHSbjRIikR6Y"
      }
    },
    {
      "cell_type": "code",
      "source": [
        "def process_input_book(book_name):\n",
        "  book_index= books_data.loc[books_data['title'] == book_name].index.values.astype(int)[0]\n",
        "  # print(\"Input Book Index:\",book_index)\n",
        "\n",
        "  input_book_genre = books_data['genres'][book_index].strip(\"][''\").split(\"', '\")\n",
        "  # print(\"Input Book Genre:\", input_book_genre)\n",
        "  return book_name, book_index, input_book_genre"
      ],
      "metadata": {
        "id": "TnP0bZe4kRkk"
      },
      "execution_count": null,
      "outputs": []
    },
    {
      "cell_type": "markdown",
      "source": [
        "## Books Recommendation"
      ],
      "metadata": {
        "id": "fWZlgOU48S-U"
      }
    },
    {
      "cell_type": "markdown",
      "source": [
        "### Get users with similar preferences"
      ],
      "metadata": {
        "id": "SnGyM8Dbk-n4"
      }
    },
    {
      "cell_type": "code",
      "source": [
        "#Function: Get list of users who gave ratings to the input book\n",
        "def sim_users(book_name):\n",
        "  similar_users_df = books_ratings.loc[books_ratings['title'] == book_name]\n",
        "  similar_users_df = similar_users_df.sort_values(by='rating', ascending = False)\n",
        "  max_rating = similar_users_df['rating'].tolist()[0]\n",
        "  similar_users_df = similar_users_df[similar_users_df['rating'] == max_rating]\n",
        "  similar_users = similar_users_df['userId'].tolist()\n",
        "  return similar_users"
      ],
      "metadata": {
        "id": "r9VcISmykk-e"
      },
      "execution_count": null,
      "outputs": []
    },
    {
      "cell_type": "markdown",
      "source": [
        "### Similar Books by Collaborative Filtering"
      ],
      "metadata": {
        "id": "PUIxzqHLAWcC"
      }
    },
    {
      "cell_type": "code",
      "source": [
        "#Function: Recommendation Model using ALS (Alternating Least Squares)\n",
        "def ALS_Rec(training):\n",
        "  als = ALS(maxIter=5, regParam=0.01, userCol=\"userId\", itemCol=\"index\", ratingCol=\"rating\", coldStartStrategy=\"drop\")\n",
        "  model = als.fit(training)\n",
        "  return model"
      ],
      "metadata": {
        "id": "H042-qN6AbjQ"
      },
      "execution_count": null,
      "outputs": []
    },
    {
      "cell_type": "code",
      "source": [
        "#Getting Highly rated Books from similar users\n",
        "def sim_books(input_book_name, all_similar_users):\n",
        "  similar_users = []\n",
        "  if(len(all_similar_users)>5):\n",
        "    similar_users.append(random.sample(all_similar_users, 5))\n",
        "  else:\n",
        "    similar_users = all_similar_users\n",
        "  print(\"\\nRecommending...\")\n",
        "  similar_books_index = []\n",
        "  ALS_model = ALS_Rec(books_ratings_spark)\n",
        "  ALS_recs = ALS_model.recommendForAllUsers(5)\n",
        "  for similar_user in similar_users:\n",
        "    # print(similar_user)\n",
        "    dfa = ALS_recs.filter(ALS_recs.userId == similar_user)\n",
        "    sbi = dfa.select(\"recommendations.index\").collect()[0][0]\n",
        "    sbs = dfa.select(\"recommendations.rating\").collect()[0][0]\n",
        "    for each_b in range(len(sbi)):\n",
        "      similar_books_index.append([sbi[each_b],sbs[each_b]])\n",
        "\n",
        "  similar_books_df = pd.DataFrame(similar_books_index)\n",
        "  similar_books_df = similar_books_df.sort_values(by=1,ascending = False)\n",
        "  similar_books_df = similar_books_df.head(6)\n",
        "  similar_books_i = similar_books_df[0].tolist()\n",
        "\n",
        "  similar_books = []\n",
        "  for each_bindex in similar_books_i:\n",
        "    dfb = books_ratings_spark.filter(books_ratings_spark.index == each_bindex)\n",
        "    sbn = dfb.select(\"title\").collect()[0][0]\n",
        "    similar_books.append(sbn)\n",
        "  if (input_book_name in similar_books):\n",
        "    similar_books.remove(input_book_name)\n",
        "\n",
        "  return similar_books"
      ],
      "metadata": {
        "id": "CbuH82cglyLh"
      },
      "execution_count": null,
      "outputs": []
    },
    {
      "cell_type": "markdown",
      "source": [
        "## Movie Recommendation"
      ],
      "metadata": {
        "id": "Aiv4slGlqrdY"
      }
    },
    {
      "cell_type": "markdown",
      "source": [
        "### Reducing Movies Dataset by Genre\n"
      ],
      "metadata": {
        "id": "AvEd7z2nkY6U"
      }
    },
    {
      "cell_type": "code",
      "source": [
        "#Function: Reduce movies dataset by genre matching\n",
        "def matching_movies(input_book_genre):\n",
        "  matched_genre = []\n",
        "  for movie_index,each_movie in enumerate(list_of_movies):\n",
        "    matched = 0\n",
        "    movie_genre = movies_data['genres'][movie_index].strip(\"][''\").split(\"', '\")\n",
        "    for each_movie_genre in movie_genre:\n",
        "      for each_book_genre in input_book_genre:\n",
        "        if(each_movie_genre == each_book_genre):\n",
        "          matched+=1\n",
        "    matched_genre.append([movie_index,matched])\n",
        "\n",
        "  matched_genre = pd.DataFrame(matched_genre, columns = ['movieId', 'genreMatches'])\n",
        "  matched_genre = matched_genre.sort_values(by='genreMatches', ascending=False)\n",
        "  matched_genre = matched_genre.reset_index(drop=True)\n",
        "  highest_matches = matched_genre['genreMatches'][0]\n",
        "  matched_genre = matched_genre[matched_genre.genreMatches == highest_matches]\n",
        "  matched_genre_movies = matched_genre['movieId'].tolist()\n",
        "\n",
        "  reduced_movies = movies_data.loc[movies_data['movieId'].isin(matched_genre_movies)]\n",
        "  return reduced_movies"
      ],
      "metadata": {
        "id": "bEGTJAYukdyf"
      },
      "execution_count": null,
      "outputs": []
    },
    {
      "cell_type": "markdown",
      "source": [
        "### Cosine Similarity"
      ],
      "metadata": {
        "id": "dEzFBOB4mRxY"
      }
    },
    {
      "cell_type": "code",
      "source": [
        "def Cosine_Similarity(tags1, tags2):\n",
        "    tags1 = ''.join(map(str, tags1))\n",
        "    tags2 = ''.join(map(str, tags2))\n",
        "    data = [tags1,tags2]\n",
        "\n",
        "    # #Cosine Similarity using CountVectorizer\n",
        "    # count_vectorizer = CountVectorizer()\n",
        "    # vector_matrix = count_vectorizer.fit_transform(data)\n",
        "    # tokens = count_vectorizer.get_feature_names()\n",
        "\n",
        "    #Cosine Similarity using TfidfVectorizer\n",
        "    Tfidf_vect = TfidfVectorizer()\n",
        "    vector_matrix = Tfidf_vect.fit_transform(data)\n",
        "    tokens = Tfidf_vect.get_feature_names_out()\n",
        "\n",
        "    cosine_similarity_matrix = cosine_similarity(vector_matrix)\n",
        "    doc_names = [f'doc_{i+1}' for i, _ in enumerate(cosine_similarity_matrix)]\n",
        "    df_cosine = pd.DataFrame(data=cosine_similarity_matrix, index=doc_names, columns=['doc_1','doc_2'])\n",
        "\n",
        "    return df_cosine['doc_1']['doc_2']"
      ],
      "metadata": {
        "id": "hKz11ZzYmO4G"
      },
      "execution_count": null,
      "outputs": []
    },
    {
      "cell_type": "markdown",
      "source": [
        "### Jaccard Similarity"
      ],
      "metadata": {
        "id": "M8ZD2TL8qw2V"
      }
    },
    {
      "cell_type": "code",
      "source": [
        "def Jaccard_Similarity(tags1, tags2):\n",
        "  tags1 = set(tags1)\n",
        "  tags2 = set(tags2)\n",
        "  \n",
        "  #Find the intersection of tags1 & tags2\n",
        "  intersection = tags1.intersection(tags2)\n",
        "\n",
        "  #Find the union of tags1 & tags2\n",
        "  union = tags1.union(tags2)\n",
        "    \n",
        "  #Calculate Jaccard similarity score using length of intersection set divided by length of union set\n",
        "  return float(len(intersection)) / len(union)"
      ],
      "metadata": {
        "id": "i1URUkicq0au"
      },
      "execution_count": null,
      "outputs": []
    },
    {
      "cell_type": "markdown",
      "source": [
        "### Movie Recommendation Function"
      ],
      "metadata": {
        "id": "BXFhkGfYzIos"
      }
    },
    {
      "cell_type": "code",
      "source": [
        "def rec_movies(similar_books, reduced_movies):\n",
        "  movie_sim = []\n",
        "  red_movies = reduced_movies['title'].tolist()\n",
        "  # print(red_movies)\n",
        "  for every_book in similar_books:\n",
        "    a1 = books_data[books_data.title == every_book]\n",
        "    book_tags = a1['tags'].tolist()[0].strip(\"][''\").split(\"', '\")\n",
        "    \n",
        "    for m,every_movie in enumerate(red_movies):\n",
        "      a2 = reduced_movies[reduced_movies.title == every_movie]\n",
        "      movie_tags = reduced_movies['tags'].tolist()[m].strip(\"][''\").split(\"', '\")\n",
        "\n",
        "      # sim_score = Cosine_Similarity(book_tags,movie_tags)\n",
        "      sim_score = Jaccard_Similarity(book_tags,movie_tags)\n",
        "\n",
        "      movie_sim.append([every_movie,sim_score])\n",
        "\n",
        "  similar_movies_df = pd.DataFrame(movie_sim)\n",
        "  similar_movies_df = similar_movies_df.sort_values(by=1,ascending = False)\n",
        "  similar_movies_df = similar_movies_df.drop_duplicates(subset=[0])\n",
        "  similar_movies_df = similar_movies_df.head(5)\n",
        "  similar_movies = similar_movies_df[0].tolist()\n",
        "  return similar_movies"
      ],
      "metadata": {
        "id": "REXgv59KyH6M"
      },
      "execution_count": null,
      "outputs": []
    },
    {
      "cell_type": "markdown",
      "source": [
        "We used Jaccard Similarity because:\n",
        "\n",
        "1.   Jaccard similarity takes only **unique set of words** for each sentence /document while cosine similarity takes **total length of the vectors**.\n",
        "2.   This means that if we repeat the word “friendship” in description 1 several times, cosine similarity **changes** but Jaccard similarity does not.\n",
        "3. Jaccard similarity is good for cases where duplication does not matter, cosine similarity is good for cases where duplication matters while analyzing text similarity.\n",
        "\n",
        "So, as we have two descriptions (one for book and one for movie), it will be better to use **Jaccard similarity** as repetition of a word does not reduce their similarity.\n",
        "\n"
      ],
      "metadata": {
        "id": "vIJsdlUo8hzd"
      }
    },
    {
      "cell_type": "markdown",
      "source": [
        "## Driver Function"
      ],
      "metadata": {
        "id": "pW-OQuNsmjFj"
      }
    },
    {
      "cell_type": "code",
      "source": [
        "def recommender():\n",
        "  input_book_name = input(\"\\nEnter Book Name: \")\n",
        "  input_book_name = input_book_name.lower()\n",
        "  if(input_book_name not in list_of_books):\n",
        "    print(\"This book is not present in the dataset. Please enter a different book!\")\n",
        "    recommender()\n",
        "  else:\n",
        "    input_book_name, book_index, input_book_genre = process_input_book(input_book_name)\n",
        "    reduced_movies = matching_movies(input_book_genre)\n",
        "    similar_users = sim_users(input_book_name)\n",
        "    print(\"\\nThe UserIDs of users with similar reading preferences are:\", end=\" \")\n",
        "    print(*similar_users, sep = \", \")\n",
        "\n",
        "    recc_books = sim_books(input_book_name, similar_users)\n",
        "    recc_books_p = [recc_book.title() for recc_book in recc_books]\n",
        "    print(\"\\n----------RECOMMENDED BOOKS----------\")\n",
        "    print(*recc_books_p, sep = \"\\n\")\n",
        "\n",
        "    recc_movies = rec_movies(recc_books, reduced_movies)\n",
        "    print(\"\\n----------RECOMMENDED MOVIES----------\")\n",
        "    print(*recc_movies, sep = \"\\n\")"
      ],
      "metadata": {
        "id": "daKn41Zvmd2B"
      },
      "execution_count": null,
      "outputs": []
    },
    {
      "cell_type": "markdown",
      "source": [
        "# Heterogeneous Recommender"
      ],
      "metadata": {
        "id": "kVdduxnaBBzx"
      }
    },
    {
      "cell_type": "code",
      "source": [
        "recommender()"
      ],
      "metadata": {
        "colab": {
          "base_uri": "https://localhost:8080/"
        },
        "id": "Q4MWKGv1BKmz",
        "outputId": "c305cdb9-2edb-4ef7-f8eb-142147ea0c2e"
      },
      "execution_count": null,
      "outputs": [
        {
          "output_type": "stream",
          "name": "stdout",
          "text": [
            "\n",
            "Enter Book Name: the hunger games\n",
            "\n",
            "The UserIDs of users with similar reading preferences are: 8093\n",
            "\n",
            "Recommending...\n",
            "\n",
            "----------RECOMMENDED BOOKS----------\n",
            "Gratitude\n",
            "When Breath Becomes Air\n",
            "Room\n",
            "Just Mercy: A Story Of Justice And Redemption\n",
            "The Orphan Master'S Son\n",
            "\n",
            "----------RECOMMENDED MOVIES----------\n",
            "Marat/Sade (1966)\n",
            "Motel Hell (1980)\n",
            "Outlaw, The (1943)\n",
            "Under the Volcano (1984)\n"
          ]
        }
      ]
    },
    {
      "cell_type": "code",
      "source": [
        ""
      ],
      "metadata": {
        "id": "7hexkzx_yTGf"
      },
      "execution_count": null,
      "outputs": []
    }
  ]
}